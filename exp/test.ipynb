{
 "cells": [
  {
   "cell_type": "code",
   "execution_count": 1,
   "metadata": {},
   "outputs": [],
   "source": [
    "%load_ext autoreload\n",
    "%autoreload 2"
   ]
  },
  {
   "cell_type": "code",
   "execution_count": 3,
   "metadata": {},
   "outputs": [],
   "source": [
    "import launch_exp\n",
    "from copy import deepcopy\n",
    "from collections import defaultdict\n",
    "\n",
    "import yaml\n",
    "\n",
    "try:\n",
    "    from yaml import CLoader as Loader, CDumper as Dumper\n",
    "except ImportError:\n",
    "    from yaml import Loader, Dumper"
   ]
  },
  {
   "cell_type": "code",
   "execution_count": null,
   "metadata": {},
   "outputs": [],
   "source": [
    "for expname in [\"glob_synth\", \"glob_synth_rmv_data\", \"glob_synth_rmv_robdd\"]:\n",
    "    filename = expname + \".yaml\"\n",
    "    with open(filename) as f:\n",
    "        base_exp = yaml.load(f, Loader)\n",
    "    for datasetname, remove_col in [(\"Titanic\", \"Sex\")]: #(\"Synthetic\", \"1\"), (\"Compas\", \"race_Caucasian\"), \n",
    "        current_exp = deepcopy(base_exp)\n",
    "        current_exp[\"dataset\"][\"name\"] = datasetname\n",
    "\n",
    "        if datasetname != \"Synthetic\":\n",
    "             current_exp[\"dataset\"][\"args\"] = {\"discretizing\": False, \"hot_encoding\": False}\n",
    "\n",
    "        if expname.endswith(\"data\"):\n",
    "            current_exp[\"dataset\"][\"args\"][\"remove\"] = remove_col\n",
    "        elif expname.endswith(\"robdd\"):\n",
    "            current_exp[\"robdd\"][\"remove\"] = remove_col\n",
    "\n",
    "        print(expname, datasetname)\n",
    "        results = []\n",
    "        for _ in range(10):\n",
    "            with open(\"tmp_exp.yaml\", \"w\") as f:\n",
    "                yaml.dump(current_exp, f, Dumper)\n",
    "            results.append(launch_exp.main(\"tmp_exp.yaml\"))\n",
    "            current_exp[\"seed\"] += 1 # can be changed\n",
    "        \n",
    "        results_lists = defaultdict(list)\n",
    "        for result in results:\n",
    "            for key, value in result.items():\n",
    "                results_lists[key].append(value)\n",
    "        results_avg = {key: sum(values) / len(values) for key, values in results_lists.items()}\n",
    "        print(results_avg)\n"
   ]
  },
  {
   "cell_type": "markdown",
   "metadata": {},
   "source": [
    "__Synthetic__ (removed feature : '1')\n",
    "| remove feature | precision | up coverage | down coverage |\n",
    "|----------------|:---------:|:-----------:|:-------------:|\n",
    "| none           |    0.72   |     0.69    |      0.81     |\n",
    "| dataset        |    0.65   |     0.65    |      0.72     |\n",
    "| robdd          |    0.68   |     0.55    |      0.72     |"
   ]
  },
  {
   "cell_type": "markdown",
   "metadata": {},
   "source": [
    "__Compas__ (removed feature : 'race_Caucasian')\n",
    "| remove feature | precision | up coverage | down coverage |\n",
    "|----------------|:---------:|:-----------:|:-------------:|\n",
    "| none           |    0.66   |     0.66    |      0.67     |\n",
    "| dataset        |    0.65   |     0.65    |      0.68     |\n",
    "| robdd          |    0.66   |     0.66    |      0.67     |"
   ]
  },
  {
   "cell_type": "markdown",
   "metadata": {},
   "source": [
    "__Titanic__ (removed feature : 'Sex')\n",
    "| remove feature | precision | up coverage | down coverage |\n",
    "|----------------|:---------:|:-----------:|:-------------:|\n",
    "| none           |    0.72   |     0.67    |      0.68     |\n",
    "| dataset        |    0.65   |     0.65    |      0.67     |\n",
    "| robdd          |    0.69   |     0.64    |      0.30     |"
   ]
  }
 ],
 "metadata": {
  "kernelspec": {
   "display_name": "odd",
   "language": "python",
   "name": "python3"
  },
  "language_info": {
   "codemirror_mode": {
    "name": "ipython",
    "version": 3
   },
   "file_extension": ".py",
   "mimetype": "text/x-python",
   "name": "python",
   "nbconvert_exporter": "python",
   "pygments_lexer": "ipython3",
   "version": "3.10.9"
  }
 },
 "nbformat": 4,
 "nbformat_minor": 2
}
