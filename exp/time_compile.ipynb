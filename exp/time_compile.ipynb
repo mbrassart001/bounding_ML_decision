{
 "cells": [
  {
   "cell_type": "code",
   "execution_count": 1,
   "metadata": {},
   "outputs": [],
   "source": [
    "import sys\n",
    "import os\n",
    "import time\n",
    "import torch.nn as nn\n",
    "from tqdm.notebook import tqdm\n",
    "\n",
    "sys.path.append(os.path.abspath('..'))\n",
    "\n",
    "from compiling_nn.build_odd import compile_nn"
   ]
  },
  {
   "cell_type": "code",
   "execution_count": 2,
   "metadata": {},
   "outputs": [],
   "source": [
    "class Model(nn.Module):\n",
    "    def __init__(self, input_size, *hidden_layers) -> None:\n",
    "        hidden_layers = list(hidden_layers)\n",
    "        layers = [nn.Linear(x, y) for x, y in zip([input_size]+hidden_layers, hidden_layers)]\n",
    "        super().__init__()\n",
    "        self.nn = nn.Sequential(*layers)"
   ]
  },
  {
   "cell_type": "code",
   "execution_count": 3,
   "metadata": {},
   "outputs": [],
   "source": [
    "def input_size_exp(max_rep=1):\n",
    "    results = dict()\n",
    "    with tqdm(total=5*max_rep, desc=\"Input Size Experiment\") as pbar:\n",
    "        for in_size in [5,10,15,20,25]:\n",
    "            res = 0\n",
    "            for _ in range(max_rep):\n",
    "                model = Model(in_size, 10, 1)\n",
    "                start = time.process_time()\n",
    "                compile_nn(model)\n",
    "                res+= (time.process_time() - start)\n",
    "                pbar.update(1)\n",
    "            results[in_size] = res/max_rep\n",
    "    return results\n",
    "\n",
    "def hidden_size_exp(max_rep=1):\n",
    "    results = dict()\n",
    "    with tqdm(total=5*max_rep, desc=\"Hidden Layer Size Experiment\") as pbar:\n",
    "        for hl_size in [5,10,15,20,25]:\n",
    "            res = 0\n",
    "            for _ in range(max_rep):\n",
    "                model = Model(15, hl_size, 1)\n",
    "                start = time.process_time()\n",
    "                compile_nn(model)\n",
    "                res+= (time.process_time() - start)\n",
    "                pbar.update(1)\n",
    "            results[hl_size] = res/max_rep\n",
    "    return results\n",
    "\n",
    "def hidden_num_exp(max_rep=1, in_size=15, hl_size=5, nb_layer=5):\n",
    "    results = dict()\n",
    "    with tqdm(total=nb_layer*max_rep, desc=\"Hidden Layer Number Experiment\") as pbar:\n",
    "        for hl_num in range(1,1+nb_layer):\n",
    "            res = 0\n",
    "            for _ in range(max_rep):\n",
    "                model = Model(in_size, *[hl_size]*hl_num, 1)\n",
    "                start = time.process_time()\n",
    "                compile_nn(model)\n",
    "                res+= (time.process_time() - start)\n",
    "                pbar.update(1)\n",
    "            results[hl_num] = res/max_rep\n",
    "    return results"
   ]
  },
  {
   "cell_type": "code",
   "execution_count": 4,
   "metadata": {},
   "outputs": [
    {
     "data": {
      "application/vnd.jupyter.widget-view+json": {
       "model_id": "0fe4200f55b1407385228043756e6ddc",
       "version_major": 2,
       "version_minor": 0
      },
      "text/plain": [
       "Input Size Experiment:   0%|          | 0/25 [00:00<?, ?it/s]"
      ]
     },
     "metadata": {},
     "output_type": "display_data"
    }
   ],
   "source": [
    "nb_iter = 5\n",
    "for _ in range(nb_iter):\n",
    "    print(input_size_exp(1))\n",
    "for _ in range(nb_iter):\n",
    "    print(hidden_size_exp(1))\n",
    "for _ in range(nb_iter):\n",
    "    print(hidden_num_exp(1))"
   ]
  },
  {
   "cell_type": "code",
   "execution_count": null,
   "metadata": {},
   "outputs": [
    {
     "data": {
      "application/vnd.jupyter.widget-view+json": {
       "model_id": "1656bcbe717f4d72969288a0e69bc8b6",
       "version_major": 2,
       "version_minor": 0
      },
      "text/plain": [
       "Hidden Layer Number Experiment:   0%|          | 0/250 [00:00<?, ?it/s]"
      ]
     },
     "metadata": {},
     "output_type": "display_data"
    },
    {
     "ename": "KeyboardInterrupt",
     "evalue": "",
     "output_type": "error",
     "traceback": [
      "\u001b[0;31m---------------------------------------------------------------------------\u001b[0m",
      "\u001b[0;31mKeyError\u001b[0m                                  Traceback (most recent call last)",
      "File \u001b[0;32m~/miniconda3/envs/odd/lib/python3.10/site-packages/pyeda/boolalg/bdd.py:491\u001b[0m, in \u001b[0;36m_restrict\u001b[0;34m(node, npoint, cache)\u001b[0m\n\u001b[1;32m    490\u001b[0m \u001b[38;5;28;01mtry\u001b[39;00m:\n\u001b[0;32m--> 491\u001b[0m     ret \u001b[38;5;241m=\u001b[39m \u001b[43mcache\u001b[49m\u001b[43m[\u001b[49m\u001b[43mnode\u001b[49m\u001b[43m]\u001b[49m\n\u001b[1;32m    492\u001b[0m \u001b[38;5;28;01mexcept\u001b[39;00m \u001b[38;5;167;01mKeyError\u001b[39;00m:\n",
      "\u001b[0;31mKeyError\u001b[0m: <pyeda.boolalg.bdd.BDDNode object at 0x779631061d80>",
      "\nDuring handling of the above exception, another exception occurred:\n",
      "\u001b[0;31mKeyError\u001b[0m                                  Traceback (most recent call last)",
      "File \u001b[0;32m~/miniconda3/envs/odd/lib/python3.10/site-packages/pyeda/boolalg/bdd.py:491\u001b[0m, in \u001b[0;36m_restrict\u001b[0;34m(node, npoint, cache)\u001b[0m\n\u001b[1;32m    490\u001b[0m \u001b[38;5;28;01mtry\u001b[39;00m:\n\u001b[0;32m--> 491\u001b[0m     ret \u001b[38;5;241m=\u001b[39m \u001b[43mcache\u001b[49m\u001b[43m[\u001b[49m\u001b[43mnode\u001b[49m\u001b[43m]\u001b[49m\n\u001b[1;32m    492\u001b[0m \u001b[38;5;28;01mexcept\u001b[39;00m \u001b[38;5;167;01mKeyError\u001b[39;00m:\n",
      "\u001b[0;31mKeyError\u001b[0m: <pyeda.boolalg.bdd.BDDNode object at 0x779631a8ac20>",
      "\nDuring handling of the above exception, another exception occurred:\n",
      "\u001b[0;31mKeyError\u001b[0m                                  Traceback (most recent call last)",
      "File \u001b[0;32m~/miniconda3/envs/odd/lib/python3.10/site-packages/pyeda/boolalg/bdd.py:494\u001b[0m, in \u001b[0;36m_restrict\u001b[0;34m(node, npoint, cache)\u001b[0m\n\u001b[1;32m    493\u001b[0m \u001b[38;5;28;01mtry\u001b[39;00m:\n\u001b[0;32m--> 494\u001b[0m     val \u001b[38;5;241m=\u001b[39m \u001b[43mnpoint\u001b[49m\u001b[43m[\u001b[49m\u001b[43mnode\u001b[49m\u001b[38;5;241;43m.\u001b[39;49m\u001b[43mroot\u001b[49m\u001b[43m]\u001b[49m\n\u001b[1;32m    495\u001b[0m \u001b[38;5;28;01mexcept\u001b[39;00m \u001b[38;5;167;01mKeyError\u001b[39;00m:\n",
      "\u001b[0;31mKeyError\u001b[0m: 14",
      "\nDuring handling of the above exception, another exception occurred:\n",
      "\u001b[0;31mKeyError\u001b[0m                                  Traceback (most recent call last)",
      "File \u001b[0;32m~/miniconda3/envs/odd/lib/python3.10/site-packages/pyeda/boolalg/bdd.py:491\u001b[0m, in \u001b[0;36m_restrict\u001b[0;34m(node, npoint, cache)\u001b[0m\n\u001b[1;32m    490\u001b[0m \u001b[38;5;28;01mtry\u001b[39;00m:\n\u001b[0;32m--> 491\u001b[0m     ret \u001b[38;5;241m=\u001b[39m \u001b[43mcache\u001b[49m\u001b[43m[\u001b[49m\u001b[43mnode\u001b[49m\u001b[43m]\u001b[49m\n\u001b[1;32m    492\u001b[0m \u001b[38;5;28;01mexcept\u001b[39;00m \u001b[38;5;167;01mKeyError\u001b[39;00m:\n",
      "\u001b[0;31mKeyError\u001b[0m: <pyeda.boolalg.bdd.BDDNode object at 0x779630dde320>",
      "\nDuring handling of the above exception, another exception occurred:\n",
      "\u001b[0;31mKeyError\u001b[0m                                  Traceback (most recent call last)",
      "File \u001b[0;32m~/miniconda3/envs/odd/lib/python3.10/site-packages/pyeda/boolalg/bdd.py:494\u001b[0m, in \u001b[0;36m_restrict\u001b[0;34m(node, npoint, cache)\u001b[0m\n\u001b[1;32m    493\u001b[0m \u001b[38;5;28;01mtry\u001b[39;00m:\n\u001b[0;32m--> 494\u001b[0m     val \u001b[38;5;241m=\u001b[39m \u001b[43mnpoint\u001b[49m\u001b[43m[\u001b[49m\u001b[43mnode\u001b[49m\u001b[38;5;241;43m.\u001b[39;49m\u001b[43mroot\u001b[49m\u001b[43m]\u001b[49m\n\u001b[1;32m    495\u001b[0m \u001b[38;5;28;01mexcept\u001b[39;00m \u001b[38;5;167;01mKeyError\u001b[39;00m:\n",
      "\u001b[0;31mKeyError\u001b[0m: 15",
      "\nDuring handling of the above exception, another exception occurred:\n",
      "\u001b[0;31mKeyboardInterrupt\u001b[0m                         Traceback (most recent call last)",
      "Cell \u001b[0;32mIn[10], line 1\u001b[0m\n\u001b[0;32m----> 1\u001b[0m \u001b[38;5;28mprint\u001b[39m(\u001b[43mhidden_num_exp\u001b[49m\u001b[43m(\u001b[49m\u001b[38;5;241;43m25\u001b[39;49m\u001b[43m,\u001b[49m\u001b[43m \u001b[49m\u001b[43min_size\u001b[49m\u001b[38;5;241;43m=\u001b[39;49m\u001b[38;5;241;43m15\u001b[39;49m\u001b[43m,\u001b[49m\u001b[43m \u001b[49m\u001b[43mhl_size\u001b[49m\u001b[38;5;241;43m=\u001b[39;49m\u001b[38;5;241;43m10\u001b[39;49m\u001b[43m,\u001b[49m\u001b[43m \u001b[49m\u001b[43mnb_layer\u001b[49m\u001b[38;5;241;43m=\u001b[39;49m\u001b[38;5;241;43m10\u001b[39;49m\u001b[43m)\u001b[49m)\n",
      "Cell \u001b[0;32mIn[9], line 37\u001b[0m, in \u001b[0;36mhidden_num_exp\u001b[0;34m(max_rep, in_size, hl_size, nb_layer)\u001b[0m\n\u001b[1;32m     35\u001b[0m model \u001b[38;5;241m=\u001b[39m Model(in_size, \u001b[38;5;241m*\u001b[39m[hl_size]\u001b[38;5;241m*\u001b[39mhl_num, \u001b[38;5;241m1\u001b[39m)\n\u001b[1;32m     36\u001b[0m start \u001b[38;5;241m=\u001b[39m time\u001b[38;5;241m.\u001b[39mprocess_time()\n\u001b[0;32m---> 37\u001b[0m \u001b[43mcompile_nn\u001b[49m\u001b[43m(\u001b[49m\u001b[43mmodel\u001b[49m\u001b[43m)\u001b[49m\n\u001b[1;32m     38\u001b[0m res\u001b[38;5;241m+\u001b[39m\u001b[38;5;241m=\u001b[39m (time\u001b[38;5;241m.\u001b[39mprocess_time() \u001b[38;5;241m-\u001b[39m start)\n\u001b[1;32m     39\u001b[0m pbar\u001b[38;5;241m.\u001b[39mupdate(\u001b[38;5;241m1\u001b[39m)\n",
      "File \u001b[0;32m~/Thèse/Code/compiling_nn/build_odd.py:277\u001b[0m, in \u001b[0;36mcompile_nn\u001b[0;34m(net, verbose)\u001b[0m\n\u001b[1;32m    274\u001b[0m     \u001b[38;5;28mprint\u001b[39m(\u001b[38;5;124mf\u001b[39m\u001b[38;5;124m\"\u001b[39m\u001b[38;5;124mDONE (\u001b[39m\u001b[38;5;132;01m{\u001b[39;00mtime\u001b[38;5;241m.\u001b[39mperf_counter()\u001b[38;5;241m-\u001b[39mstart_convert\u001b[38;5;132;01m:\u001b[39;00m\u001b[38;5;124m1.2e\u001b[39m\u001b[38;5;132;01m}\u001b[39;00m\u001b[38;5;124m)\u001b[39m\u001b[38;5;130;01m\\n\u001b[39;00m\u001b[38;5;124mcombining ODDs     : \u001b[39m\u001b[38;5;124m\"\u001b[39m, end\u001b[38;5;241m=\u001b[39m\u001b[38;5;124m\"\u001b[39m\u001b[38;5;124m\"\u001b[39m)\n\u001b[1;32m    275\u001b[0m     start_combine \u001b[38;5;241m=\u001b[39m time\u001b[38;5;241m.\u001b[39mperf_counter()\n\u001b[0;32m--> 277\u001b[0m res \u001b[38;5;241m=\u001b[39m \u001b[43mcombine_odds\u001b[49m\u001b[43m(\u001b[49m\u001b[43modds\u001b[49m\u001b[43m)\u001b[49m\n\u001b[1;32m    278\u001b[0m \u001b[38;5;28;01mif\u001b[39;00m verbose:\n\u001b[1;32m    279\u001b[0m     \u001b[38;5;28mprint\u001b[39m(\u001b[38;5;124mf\u001b[39m\u001b[38;5;124m\"\u001b[39m\u001b[38;5;124mDONE (\u001b[39m\u001b[38;5;132;01m{\u001b[39;00mtime\u001b[38;5;241m.\u001b[39mperf_counter()\u001b[38;5;241m-\u001b[39mstart_combine\u001b[38;5;132;01m:\u001b[39;00m\u001b[38;5;124m1.2e\u001b[39m\u001b[38;5;132;01m}\u001b[39;00m\u001b[38;5;124m)\u001b[39m\u001b[38;5;124m\"\u001b[39m)\n",
      "File \u001b[0;32m~/Thèse/Code/compiling_nn/build_odd.py:257\u001b[0m, in \u001b[0;36mcombine_odds\u001b[0;34m(odds, return_vars)\u001b[0m\n\u001b[1;32m    255\u001b[0m switch_layer \u001b[38;5;241m=\u001b[39m []\n\u001b[1;32m    256\u001b[0m \u001b[38;5;28;01mfor\u001b[39;00m n_bdd, n_vars \u001b[38;5;129;01min\u001b[39;00m next_layer:\n\u001b[0;32m--> 257\u001b[0m     res_bdd \u001b[38;5;241m=\u001b[39m \u001b[43mn_bdd\u001b[49m\u001b[38;5;241;43m.\u001b[39;49m\u001b[43mcompose\u001b[49m\u001b[43m(\u001b[49m\u001b[43m{\u001b[49m\u001b[43mn_var\u001b[49m\u001b[43m:\u001b[49m\u001b[43m \u001b[49m\u001b[43mp_bdd\u001b[49m\u001b[43m \u001b[49m\u001b[38;5;28;43;01mfor\u001b[39;49;00m\u001b[43m \u001b[49m\u001b[43m(\u001b[49m\u001b[43mp_bdd\u001b[49m\u001b[43m,\u001b[49m\u001b[43m \u001b[49m\u001b[43m_\u001b[49m\u001b[43m)\u001b[49m\u001b[43m,\u001b[49m\u001b[43m \u001b[49m\u001b[43mn_var\u001b[49m\u001b[43m \u001b[49m\u001b[38;5;129;43;01min\u001b[39;49;00m\u001b[43m \u001b[49m\u001b[38;5;28;43mzip\u001b[39;49m\u001b[43m(\u001b[49m\u001b[43mprev_layer\u001b[49m\u001b[43m,\u001b[49m\u001b[43m \u001b[49m\u001b[43mn_vars\u001b[49m\u001b[43m)\u001b[49m\u001b[43m}\u001b[49m\u001b[43m)\u001b[49m \n\u001b[1;32m    258\u001b[0m     switch_layer\u001b[38;5;241m.\u001b[39mappend((res_bdd, p_vars))\n\u001b[1;32m    260\u001b[0m prev_layer \u001b[38;5;241m=\u001b[39m switch_layer\n",
      "File \u001b[0;32m~/miniconda3/envs/odd/lib/python3.10/site-packages/pyeda/boolalg/bdd.py:310\u001b[0m, in \u001b[0;36mBinaryDecisionDiagram.compose\u001b[0;34m(self, mapping)\u001b[0m\n\u001b[1;32m    308\u001b[0m \u001b[38;5;28;01mfor\u001b[39;00m v, g \u001b[38;5;129;01min\u001b[39;00m mapping\u001b[38;5;241m.\u001b[39mitems():\n\u001b[1;32m    309\u001b[0m     fv0, fv1 \u001b[38;5;241m=\u001b[39m _bdd(node)\u001b[38;5;241m.\u001b[39mcofactors(v)\n\u001b[0;32m--> 310\u001b[0m     node \u001b[38;5;241m=\u001b[39m \u001b[43m_ite\u001b[49m\u001b[43m(\u001b[49m\u001b[43mg\u001b[49m\u001b[38;5;241;43m.\u001b[39;49m\u001b[43mnode\u001b[49m\u001b[43m,\u001b[49m\u001b[43m \u001b[49m\u001b[43mfv1\u001b[49m\u001b[38;5;241;43m.\u001b[39;49m\u001b[43mnode\u001b[49m\u001b[43m,\u001b[49m\u001b[43m \u001b[49m\u001b[43mfv0\u001b[49m\u001b[38;5;241;43m.\u001b[39;49m\u001b[43mnode\u001b[49m\u001b[43m)\u001b[49m\n\u001b[1;32m    311\u001b[0m \u001b[38;5;28;01mreturn\u001b[39;00m _bdd(node)\n",
      "File \u001b[0;32m~/miniconda3/envs/odd/lib/python3.10/site-packages/pyeda/boolalg/bdd.py:479\u001b[0m, in \u001b[0;36m_ite\u001b[0;34m(f, g, h)\u001b[0m\n\u001b[1;32m    477\u001b[0m fv0, gv0, hv0 \u001b[38;5;241m=\u001b[39m [_restrict(node, npoint0) \u001b[38;5;28;01mfor\u001b[39;00m node \u001b[38;5;129;01min\u001b[39;00m (f, g, h)]\n\u001b[1;32m    478\u001b[0m fv1, gv1, hv1 \u001b[38;5;241m=\u001b[39m [_restrict(node, npoint1) \u001b[38;5;28;01mfor\u001b[39;00m node \u001b[38;5;129;01min\u001b[39;00m (f, g, h)]\n\u001b[0;32m--> 479\u001b[0m \u001b[38;5;28;01mreturn\u001b[39;00m _bddnode(root, \u001b[43m_ite\u001b[49m\u001b[43m(\u001b[49m\u001b[43mfv0\u001b[49m\u001b[43m,\u001b[49m\u001b[43m \u001b[49m\u001b[43mgv0\u001b[49m\u001b[43m,\u001b[49m\u001b[43m \u001b[49m\u001b[43mhv0\u001b[49m\u001b[43m)\u001b[49m, _ite(fv1, gv1, hv1))\n",
      "File \u001b[0;32m~/miniconda3/envs/odd/lib/python3.10/site-packages/pyeda/boolalg/bdd.py:479\u001b[0m, in \u001b[0;36m_ite\u001b[0;34m(f, g, h)\u001b[0m\n\u001b[1;32m    477\u001b[0m fv0, gv0, hv0 \u001b[38;5;241m=\u001b[39m [_restrict(node, npoint0) \u001b[38;5;28;01mfor\u001b[39;00m node \u001b[38;5;129;01min\u001b[39;00m (f, g, h)]\n\u001b[1;32m    478\u001b[0m fv1, gv1, hv1 \u001b[38;5;241m=\u001b[39m [_restrict(node, npoint1) \u001b[38;5;28;01mfor\u001b[39;00m node \u001b[38;5;129;01min\u001b[39;00m (f, g, h)]\n\u001b[0;32m--> 479\u001b[0m \u001b[38;5;28;01mreturn\u001b[39;00m _bddnode(root, _ite(fv0, gv0, hv0), \u001b[43m_ite\u001b[49m\u001b[43m(\u001b[49m\u001b[43mfv1\u001b[49m\u001b[43m,\u001b[49m\u001b[43m \u001b[49m\u001b[43mgv1\u001b[49m\u001b[43m,\u001b[49m\u001b[43m \u001b[49m\u001b[43mhv1\u001b[49m\u001b[43m)\u001b[49m)\n",
      "    \u001b[0;31m[... skipping similar frames: _ite at line 479 (9 times)]\u001b[0m\n",
      "File \u001b[0;32m~/miniconda3/envs/odd/lib/python3.10/site-packages/pyeda/boolalg/bdd.py:479\u001b[0m, in \u001b[0;36m_ite\u001b[0;34m(f, g, h)\u001b[0m\n\u001b[1;32m    477\u001b[0m fv0, gv0, hv0 \u001b[38;5;241m=\u001b[39m [_restrict(node, npoint0) \u001b[38;5;28;01mfor\u001b[39;00m node \u001b[38;5;129;01min\u001b[39;00m (f, g, h)]\n\u001b[1;32m    478\u001b[0m fv1, gv1, hv1 \u001b[38;5;241m=\u001b[39m [_restrict(node, npoint1) \u001b[38;5;28;01mfor\u001b[39;00m node \u001b[38;5;129;01min\u001b[39;00m (f, g, h)]\n\u001b[0;32m--> 479\u001b[0m \u001b[38;5;28;01mreturn\u001b[39;00m _bddnode(root, _ite(fv0, gv0, hv0), \u001b[43m_ite\u001b[49m\u001b[43m(\u001b[49m\u001b[43mfv1\u001b[49m\u001b[43m,\u001b[49m\u001b[43m \u001b[49m\u001b[43mgv1\u001b[49m\u001b[43m,\u001b[49m\u001b[43m \u001b[49m\u001b[43mhv1\u001b[49m\u001b[43m)\u001b[49m)\n",
      "File \u001b[0;32m~/miniconda3/envs/odd/lib/python3.10/site-packages/pyeda/boolalg/bdd.py:478\u001b[0m, in \u001b[0;36m_ite\u001b[0;34m(f, g, h)\u001b[0m\n\u001b[1;32m    476\u001b[0m npoint1 \u001b[38;5;241m=\u001b[39m {root: BDDNODEONE}\n\u001b[1;32m    477\u001b[0m fv0, gv0, hv0 \u001b[38;5;241m=\u001b[39m [_restrict(node, npoint0) \u001b[38;5;28;01mfor\u001b[39;00m node \u001b[38;5;129;01min\u001b[39;00m (f, g, h)]\n\u001b[0;32m--> 478\u001b[0m fv1, gv1, hv1 \u001b[38;5;241m=\u001b[39m [_restrict(node, npoint1) \u001b[38;5;28;01mfor\u001b[39;00m node \u001b[38;5;129;01min\u001b[39;00m (f, g, h)]\n\u001b[1;32m    479\u001b[0m \u001b[38;5;28;01mreturn\u001b[39;00m _bddnode(root, _ite(fv0, gv0, hv0), _ite(fv1, gv1, hv1))\n",
      "File \u001b[0;32m~/miniconda3/envs/odd/lib/python3.10/site-packages/pyeda/boolalg/bdd.py:478\u001b[0m, in \u001b[0;36m<listcomp>\u001b[0;34m(.0)\u001b[0m\n\u001b[1;32m    476\u001b[0m npoint1 \u001b[38;5;241m=\u001b[39m {root: BDDNODEONE}\n\u001b[1;32m    477\u001b[0m fv0, gv0, hv0 \u001b[38;5;241m=\u001b[39m [_restrict(node, npoint0) \u001b[38;5;28;01mfor\u001b[39;00m node \u001b[38;5;129;01min\u001b[39;00m (f, g, h)]\n\u001b[0;32m--> 478\u001b[0m fv1, gv1, hv1 \u001b[38;5;241m=\u001b[39m [\u001b[43m_restrict\u001b[49m\u001b[43m(\u001b[49m\u001b[43mnode\u001b[49m\u001b[43m,\u001b[49m\u001b[43m \u001b[49m\u001b[43mnpoint1\u001b[49m\u001b[43m)\u001b[49m \u001b[38;5;28;01mfor\u001b[39;00m node \u001b[38;5;129;01min\u001b[39;00m (f, g, h)]\n\u001b[1;32m    479\u001b[0m \u001b[38;5;28;01mreturn\u001b[39;00m _bddnode(root, _ite(fv0, gv0, hv0), _ite(fv1, gv1, hv1))\n",
      "File \u001b[0;32m~/miniconda3/envs/odd/lib/python3.10/site-packages/pyeda/boolalg/bdd.py:501\u001b[0m, in \u001b[0;36m_restrict\u001b[0;34m(node, npoint, cache)\u001b[0m\n\u001b[1;32m    499\u001b[0m     \u001b[38;5;28;01melse\u001b[39;00m:\n\u001b[1;32m    500\u001b[0m         child \u001b[38;5;241m=\u001b[39m {BDDNODEZERO: node\u001b[38;5;241m.\u001b[39mlo, BDDNODEONE: node\u001b[38;5;241m.\u001b[39mhi}[val]\n\u001b[0;32m--> 501\u001b[0m         ret \u001b[38;5;241m=\u001b[39m \u001b[43m_restrict\u001b[49m\u001b[43m(\u001b[49m\u001b[43mchild\u001b[49m\u001b[43m,\u001b[49m\u001b[43m \u001b[49m\u001b[43mnpoint\u001b[49m\u001b[43m,\u001b[49m\u001b[43m \u001b[49m\u001b[43mcache\u001b[49m\u001b[43m)\u001b[49m\n\u001b[1;32m    502\u001b[0m     cache[node] \u001b[38;5;241m=\u001b[39m ret\n\u001b[1;32m    503\u001b[0m \u001b[38;5;28;01mreturn\u001b[39;00m ret\n",
      "File \u001b[0;32m~/miniconda3/envs/odd/lib/python3.10/site-packages/pyeda/boolalg/bdd.py:496\u001b[0m, in \u001b[0;36m_restrict\u001b[0;34m(node, npoint, cache)\u001b[0m\n\u001b[1;32m    494\u001b[0m     val \u001b[38;5;241m=\u001b[39m npoint[node\u001b[38;5;241m.\u001b[39mroot]\n\u001b[1;32m    495\u001b[0m \u001b[38;5;28;01mexcept\u001b[39;00m \u001b[38;5;167;01mKeyError\u001b[39;00m:\n\u001b[0;32m--> 496\u001b[0m     lo \u001b[38;5;241m=\u001b[39m \u001b[43m_restrict\u001b[49m\u001b[43m(\u001b[49m\u001b[43mnode\u001b[49m\u001b[38;5;241;43m.\u001b[39;49m\u001b[43mlo\u001b[49m\u001b[43m,\u001b[49m\u001b[43m \u001b[49m\u001b[43mnpoint\u001b[49m\u001b[43m,\u001b[49m\u001b[43m \u001b[49m\u001b[43mcache\u001b[49m\u001b[43m)\u001b[49m\n\u001b[1;32m    497\u001b[0m     hi \u001b[38;5;241m=\u001b[39m _restrict(node\u001b[38;5;241m.\u001b[39mhi, npoint, cache)\n\u001b[1;32m    498\u001b[0m     ret \u001b[38;5;241m=\u001b[39m _bddnode(node\u001b[38;5;241m.\u001b[39mroot, lo, hi)\n",
      "File \u001b[0;32m~/miniconda3/envs/odd/lib/python3.10/site-packages/pyeda/boolalg/bdd.py:497\u001b[0m, in \u001b[0;36m_restrict\u001b[0;34m(node, npoint, cache)\u001b[0m\n\u001b[1;32m    495\u001b[0m \u001b[38;5;28;01mexcept\u001b[39;00m \u001b[38;5;167;01mKeyError\u001b[39;00m:\n\u001b[1;32m    496\u001b[0m     lo \u001b[38;5;241m=\u001b[39m _restrict(node\u001b[38;5;241m.\u001b[39mlo, npoint, cache)\n\u001b[0;32m--> 497\u001b[0m     hi \u001b[38;5;241m=\u001b[39m \u001b[43m_restrict\u001b[49m\u001b[43m(\u001b[49m\u001b[43mnode\u001b[49m\u001b[38;5;241;43m.\u001b[39;49m\u001b[43mhi\u001b[49m\u001b[43m,\u001b[49m\u001b[43m \u001b[49m\u001b[43mnpoint\u001b[49m\u001b[43m,\u001b[49m\u001b[43m \u001b[49m\u001b[43mcache\u001b[49m\u001b[43m)\u001b[49m\n\u001b[1;32m    498\u001b[0m     ret \u001b[38;5;241m=\u001b[39m _bddnode(node\u001b[38;5;241m.\u001b[39mroot, lo, hi)\n\u001b[1;32m    499\u001b[0m \u001b[38;5;28;01melse\u001b[39;00m:\n",
      "\u001b[0;31mKeyboardInterrupt\u001b[0m: "
     ]
    }
   ],
   "source": [
    "print(hidden_num_exp(25, in_size=15, hl_size=10, nb_layer=10))"
   ]
  },
  {
   "cell_type": "code",
   "execution_count": null,
   "metadata": {},
   "outputs": [
    {
     "data": {
      "application/vnd.jupyter.widget-view+json": {
       "model_id": "b6ffd331e95a4019a155d5aaf76a020b",
       "version_major": 2,
       "version_minor": 0
      },
      "text/plain": [
       "Hidden Layer Number Experiment:   0%|          | 0/125 [00:00<?, ?it/s]"
      ]
     },
     "metadata": {},
     "output_type": "display_data"
    },
    {
     "name": "stdout",
     "output_type": "stream",
     "text": [
      "{1: 16.75581863175983, 2: 45.5593901035202, 3: 88.2789686694798, 4: 82.45634129416008, 5: 117.93491455776012}\n"
     ]
    }
   ],
   "source": [
    "print(hidden_num_exp(25, in_size=20))"
   ]
  }
 ],
 "metadata": {
  "kernelspec": {
   "display_name": "odd",
   "language": "python",
   "name": "python3"
  },
  "language_info": {
   "codemirror_mode": {
    "name": "ipython",
    "version": 3
   },
   "file_extension": ".py",
   "mimetype": "text/x-python",
   "name": "python",
   "nbconvert_exporter": "python",
   "pygments_lexer": "ipython3",
   "version": "3.1.-1"
  }
 },
 "nbformat": 4,
 "nbformat_minor": 2
}
