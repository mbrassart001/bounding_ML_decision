{
 "cells": [
  {
   "cell_type": "code",
   "execution_count": null,
   "metadata": {},
   "outputs": [],
   "source": [
    "import numpy as np\n",
    "import math"
   ]
  },
  {
   "cell_type": "code",
   "execution_count": null,
   "metadata": {},
   "outputs": [],
   "source": [
    "def pu(abdd, x, u):\n",
    "    # Pr_U(x reach u)\n",
    "    pass\n",
    "\n",
    "def qu(abdd, x, u):\n",
    "    # Pr_U(f(x) = 1 | x reach u)\n",
    "    pass\n",
    "\n",
    "def G(q):\n",
    "    return 2 * math.sqrt(q * (1 - q))\n",
    "\n",
    "def N(abdd):\n",
    "    pass\n",
    "\n",
    "def split(abdd, H, S):\n",
    "    for u in N(abdd):\n",
    "        Su = np.array()\n",
    "        du = dict()\n",
    "        for x, y in S:\n",
    "            if (x, y) in Su:\n",
    "                du[(x,y)] = 1 / (2*...)\n",
    "        ppu = pu() * G(qu()) / sum([pu() * G(qu()) for uu in ...])\n",
    "\n",
    "        ...\n"
   ]
  }
 ],
 "metadata": {
  "language_info": {
   "name": "python"
  }
 },
 "nbformat": 4,
 "nbformat_minor": 2
}
