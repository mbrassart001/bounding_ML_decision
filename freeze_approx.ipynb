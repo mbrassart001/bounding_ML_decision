{
 "cells": [
  {
   "cell_type": "markdown",
   "metadata": {},
   "source": [
    "## Imports"
   ]
  },
  {
   "cell_type": "code",
   "execution_count": 1,
   "metadata": {},
   "outputs": [],
   "source": [
    "%load_ext autoreload\n",
    "%autoreload 2\n",
    "\n",
    "import sys\n",
    "import os\n",
    "\n",
    "import torch\n",
    "import torch.nn as nn\n",
    "import pandas as pd\n",
    "\n",
    "from collections import OrderedDict \n",
    "from sklearn import metrics, model_selection\n",
    "from torch.optim import Adam\n",
    "\n",
    "sys.path.append(os.path.abspath(''))\n",
    "\n",
    "import utils.more_torch_functions as mtf\n",
    "import datasets\n",
    "\n",
    "from utils.custom_activations import StepActivation, StepFunction\n",
    "from utils.modules import Parallel, MaxLayer, MaxHierarchicalLayer\n",
    "from utils.misc import train_model, cov_score\n",
    "\n",
    "# torch.autograd.set_detect_anomaly(True)"
   ]
  },
  {
   "cell_type": "markdown",
   "metadata": {},
   "source": [
    "## Load data"
   ]
  },
  {
   "cell_type": "code",
   "execution_count": 2,
   "metadata": {},
   "outputs": [
    {
     "name": "stdout",
     "output_type": "stream",
     "text": [
      "torch.Size([536, 8])\n"
     ]
    }
   ],
   "source": [
    "np_x, np_y = datasets.DiabetesDataset.get_dataset(balancing=True, discretizing=False, hot_encoding=True)\n",
    "x_data, y_data = torch.Tensor(np_x), torch.Tensor(np_y)\n",
    "input_size = x_data.size(1)\n",
    "print(x_data.size())"
   ]
  },
  {
   "cell_type": "markdown",
   "metadata": {},
   "source": [
    "## Hooks"
   ]
  },
  {
   "cell_type": "code",
   "execution_count": 3,
   "metadata": {},
   "outputs": [],
   "source": [
    "intermediate_outputs = {}\n",
    "def get_intermediate_outputs(name):\n",
    "    def hook(model, input, output):\n",
    "        if model.training:\n",
    "            intermediate_outputs.setdefault(name, dict())[\"train\"] = output\n",
    "        else:\n",
    "            intermediate_outputs.setdefault(name, dict())[\"valid\"] = output\n",
    "    return hook\n",
    "\n",
    "def true_label_for_backward(train, valid):\n",
    "    def hook(model, input):\n",
    "        if model.training:\n",
    "            model.true_labels = train\n",
    "        else:\n",
    "            model.true_labels = valid\n",
    "    return hook\n",
    "\n",
    "# créer hook fonction de perte pour meilleur backward ? (comparer individuellement les sorties des réseaux ???)"
   ]
  },
  {
   "cell_type": "markdown",
   "metadata": {},
   "source": [
    "## Networks"
   ]
  },
  {
   "cell_type": "markdown",
   "metadata": {},
   "source": [
    "### Network parts"
   ]
  },
  {
   "cell_type": "code",
   "execution_count": 4,
   "metadata": {},
   "outputs": [],
   "source": [
    "class ApproxNet(nn.Module):\n",
    "    def __init__(self):\n",
    "        super().__init__()\n",
    "        \n",
    "        hl1 = 10\n",
    "\n",
    "        self.nn = nn.Sequential(OrderedDict([\n",
    "            ('l1', nn.Linear(input_size,hl1)),\n",
    "            ('a1', StepActivation()),\n",
    "            ('l2', nn.Linear(hl1,1)),\n",
    "            ('a2', StepActivation())\n",
    "        ]))        \n",
    "\n",
    "    def forward(self, x):\n",
    "        x = self.nn(x)\n",
    "\n",
    "        return x\n",
    "\n",
    "class BigNet(nn.Module):\n",
    "    def __init__(self):\n",
    "        super().__init__()\n",
    "\n",
    "        hl1 = 50\n",
    "        hl2 = 25\n",
    "\n",
    "        self. nn = nn.Sequential(OrderedDict([\n",
    "            ('l1', nn.Linear(input_size,hl1)),\n",
    "            ('a1', nn.Sigmoid()),\n",
    "            ('l2', nn.Linear(hl1,hl2)),\n",
    "            ('a2', nn.Sigmoid()),\n",
    "            ('l3', nn.Linear(hl2,1)),\n",
    "            ('a3', StepActivation()),\n",
    "        ]))\n",
    "    \n",
    "    def forward(self, x):\n",
    "        x = self.nn(x)\n",
    "\n",
    "        return x"
   ]
  },
  {
   "cell_type": "markdown",
   "metadata": {},
   "source": [
    "### Network definition"
   ]
  },
  {
   "cell_type": "code",
   "execution_count": 5,
   "metadata": {},
   "outputs": [],
   "source": [
    "class Net(nn.Module):\n",
    "    def __init__(self):\n",
    "        super().__init__()\n",
    "\n",
    "        self.net = nn.Sequential(OrderedDict([\n",
    "            ('nets', Parallel(OrderedDict([\n",
    "                ('apx1', ApproxNet()),\n",
    "                ('apx2', ApproxNet()),\n",
    "                ('apx3', ApproxNet()),\n",
    "            ]))),\n",
    "            ('or_', MaxLayer()),\n",
    "        ]))\n",
    "\n",
    "    def forward(self, input):\n",
    "        return self.net(input)\n",
    "    \n",
    "class BlankNet(nn.Module):\n",
    "    def __init__(self) -> None:\n",
    "        super().__init__()\n",
    "\n",
    "        self.net = nn.Sequential(OrderedDict([\n",
    "            ('nets', Parallel(OrderedDict([\n",
    "            ]))),\n",
    "            ('or_', MaxLayer()),\n",
    "        ]))\n",
    "\n",
    "    def forward(self, input):\n",
    "        return self.net(input)"
   ]
  },
  {
   "cell_type": "markdown",
   "metadata": {},
   "source": [
    "## Network evaluation"
   ]
  },
  {
   "cell_type": "code",
   "execution_count": 6,
   "metadata": {},
   "outputs": [],
   "source": [
    "def eval_model(x_train, y_train, x_valid, y_valid, model, criterion, optimizer):\n",
    "    train_model(x_train, y_train, model, criterion, optimizer, 500)\n",
    "    model.eval()\n",
    "    pred_train = model(x_train).detach()\n",
    "    pred_valid = model(x_valid).detach()\n",
    "\n",
    "    f1_train = metrics.f1_score(y_train, pred_train)\n",
    "    cov_train = cov_score(y_train, pred_train)\n",
    "    f1_valid = metrics.f1_score(y_valid, pred_valid)\n",
    "    cov_valid = cov_score(y_valid, pred_valid)\n",
    "\n",
    "    print(\n",
    "        f\"{'':<15}{'Train':^15}{'Valid':^15}\",\n",
    "        f\"{'F1 score':<15}{f1_train:^15.3f}{f1_valid:^15.3f}\",\n",
    "        f\"{'Coverage [0]':<15}{cov_train[0]:^15.3f}{cov_valid[0]:^15.3f}\",\n",
    "        f\"{'         [1]':<15}{cov_train[1]:^15.3f}{cov_valid[1]:^15.3f}\",\n",
    "        sep=\"\\n\"\n",
    "    )"
   ]
  },
  {
   "cell_type": "code",
   "execution_count": 7,
   "metadata": {},
   "outputs": [
    {
     "name": "stdout",
     "output_type": "stream",
     "text": [
      "                    Train          Valid     \n",
      "F1 score            0.852          0.702     \n",
      "Coverage [0]        0.797          0.593     \n",
      "         [1]        0.893          0.769     \n"
     ]
    }
   ],
   "source": [
    "model = Net()\n",
    "criterion = nn.BCELoss()\n",
    "optimizer = Adam(model.parameters(), lr=1e-2, weight_decay=1e-6)\n",
    "\n",
    "model.net.nets.register_forward_hook(get_intermediate_outputs(\"parallel_out\"))\n",
    "train_index, valid_index = torch.utils.data.random_split(range(x_data.size(0)), [0.9, 0.1])\n",
    "\n",
    "x_train, y_train = x_data[train_index], y_data[train_index]\n",
    "x_valid, y_valid = x_data[valid_index], y_data[valid_index]\n",
    "\n",
    "eval_model(x_train, y_train, x_valid, y_valid, model, criterion, optimizer)"
   ]
  },
  {
   "cell_type": "code",
   "execution_count": 8,
   "metadata": {},
   "outputs": [
    {
     "name": "stdout",
     "output_type": "stream",
     "text": [
      "                    Train          Valid     \n",
      "F1 score            0.852          0.702     \n",
      "Coverage [0]        0.797          0.593     \n",
      "         [1]        0.893          0.769     \n"
     ]
    }
   ],
   "source": [
    "for param in model.parameters():\n",
    "    param.requires_grad = False\n",
    "\n",
    "model.net.nets.add_module(\"nn\", BigNet())\n",
    "optimizer = Adam(model.net.nets.nn.parameters(), lr=1e-2, weight_decay=1e-6)\n",
    "\n",
    "eval_model(x_train, y_train, x_valid, y_valid, model, criterion, optimizer)"
   ]
  },
  {
   "cell_type": "markdown",
   "metadata": {},
   "source": [
    "### Comments\n",
    "\n",
    "very small increase in both metrics (sometimes even decreases in performances)"
   ]
  },
  {
   "cell_type": "code",
   "execution_count": 9,
   "metadata": {},
   "outputs": [
    {
     "name": "stdout",
     "output_type": "stream",
     "text": [
      "                    Train          Valid     \n",
      "F1 score            0.860          0.678     \n",
      "Coverage [0]        0.805          0.519     \n",
      "         [1]        0.901          0.769     \n",
      "                    Train          Valid     \n",
      "F1 score            0.854          0.700     \n",
      "Coverage [0]        0.730          0.519     \n",
      "         [1]        0.946          0.808     \n",
      "                    Train          Valid     \n",
      "F1 score            0.859          0.721     \n",
      "Coverage [0]        0.726          0.519     \n",
      "         [1]        0.959          0.846     \n"
     ]
    }
   ],
   "source": [
    "model = BlankNet()\n",
    "criterion = nn.BCELoss()\n",
    "model.net.nets.add_module(\"apx1\", ApproxNet())\n",
    "optimizer = Adam(model.parameters(), lr=1e-2, weight_decay=1e-6)\n",
    "\n",
    "eval_model(x_train, y_train, x_valid, y_valid, model, criterion, optimizer)\n",
    "\n",
    "model.net.nets.add_module(\"apx2\", ApproxNet())\n",
    "optimizer = Adam(model.net.nets.apx2.parameters(), lr=1e-2, weight_decay=1e-6)\n",
    "\n",
    "eval_model(x_train, y_train, x_valid, y_valid, model, criterion, optimizer)\n",
    "\n",
    "model.net.nets.add_module(\"apx3\", ApproxNet())\n",
    "optimizer = Adam(model.net.nets.apx3.parameters(), lr=1e-2, weight_decay=1e-6)\n",
    "\n",
    "eval_model(x_train, y_train, x_valid, y_valid, model, criterion, optimizer)"
   ]
  }
 ],
 "metadata": {
  "kernelspec": {
   "display_name": "odd",
   "language": "python",
   "name": "python3"
  },
  "language_info": {
   "codemirror_mode": {
    "name": "ipython",
    "version": 3
   },
   "file_extension": ".py",
   "mimetype": "text/x-python",
   "name": "python",
   "nbconvert_exporter": "python",
   "pygments_lexer": "ipython3",
   "version": "3.10.9"
  }
 },
 "nbformat": 4,
 "nbformat_minor": 2
}
