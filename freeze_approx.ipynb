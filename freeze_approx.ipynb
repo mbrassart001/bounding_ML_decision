{
 "cells": [
  {
   "cell_type": "markdown",
   "metadata": {},
   "source": [
    "## Imports"
   ]
  },
  {
   "cell_type": "code",
   "execution_count": 1,
   "metadata": {},
   "outputs": [],
   "source": [
    "%load_ext autoreload\n",
    "%autoreload 2\n",
    "\n",
    "import sys\n",
    "import os\n",
    "\n",
    "import torch\n",
    "import torch.nn as nn\n",
    "import pandas as pd\n",
    "\n",
    "from collections import OrderedDict \n",
    "from sklearn import metrics, model_selection\n",
    "from torch.optim import Adam\n",
    "\n",
    "sys.path.append(os.path.abspath(''))\n",
    "\n",
    "import utils.more_torch_functions as mtf\n",
    "import datasets\n",
    "\n",
    "from utils.custom_activations import StepActivation, StepFunction\n",
    "from utils.modules import Parallel, MaxLayer, MaxHierarchicalLayer\n",
    "from utils.misc import train_model, cov_score\n",
    "\n",
    "# torch.autograd.set_detect_anomaly(True)"
   ]
  },
  {
   "cell_type": "markdown",
   "metadata": {},
   "source": [
    "## Load data"
   ]
  },
  {
   "cell_type": "code",
   "execution_count": 2,
   "metadata": {},
   "outputs": [
    {
     "name": "stdout",
     "output_type": "stream",
     "text": [
      "torch.Size([536, 8])\n"
     ]
    }
   ],
   "source": [
    "np_x, np_y = datasets.DiabetesDataset.get_dataset(balancing=True, discretizing=False, hot_encoding=True)\n",
    "x_data, y_data = torch.Tensor(np_x), torch.Tensor(np_y)\n",
    "input_size = x_data.size(1)\n",
    "print(x_data.size())"
   ]
  },
  {
   "cell_type": "markdown",
   "metadata": {},
   "source": [
    "## Hooks"
   ]
  },
  {
   "cell_type": "code",
   "execution_count": 3,
   "metadata": {},
   "outputs": [],
   "source": [
    "intermediate_outputs = {}\n",
    "def get_intermediate_outputs(name):\n",
    "    def hook(model, input, output):\n",
    "        if model.training:\n",
    "            intermediate_outputs.setdefault(name, dict())[\"train\"] = output\n",
    "        else:\n",
    "            intermediate_outputs.setdefault(name, dict())[\"valid\"] = output\n",
    "    return hook\n",
    "\n",
    "def true_label_for_backward(train, valid):\n",
    "    def hook(model, input):\n",
    "        if model.training:\n",
    "            model.true_labels = train\n",
    "        else:\n",
    "            model.true_labels = valid\n",
    "    return hook\n",
    "\n",
    "# créer hook fonction de perte pour meilleur backward ? (comparer individuellement les sorties des réseaux ???)"
   ]
  },
  {
   "cell_type": "markdown",
   "metadata": {},
   "source": [
    "## Networks"
   ]
  },
  {
   "cell_type": "markdown",
   "metadata": {},
   "source": [
    "### Network parts"
   ]
  },
  {
   "cell_type": "code",
   "execution_count": 4,
   "metadata": {},
   "outputs": [],
   "source": [
    "class ApproxNet(nn.Module):\n",
    "    def __init__(self):\n",
    "        super().__init__()\n",
    "        \n",
    "        hl1 = 10\n",
    "\n",
    "        self.nn = nn.Sequential(OrderedDict([\n",
    "            ('l1', nn.Linear(input_size,hl1)),\n",
    "            ('a1', StepActivation()),\n",
    "            ('l2', nn.Linear(hl1,1)),\n",
    "            ('a2', StepActivation())\n",
    "        ]))        \n",
    "\n",
    "    def forward(self, x):\n",
    "        x = self.nn(x)\n",
    "\n",
    "        return x\n",
    "\n",
    "class BigNet(nn.Module):\n",
    "    def __init__(self):\n",
    "        super().__init__()\n",
    "\n",
    "        hl1 = 50\n",
    "        hl2 = 25\n",
    "\n",
    "        self. nn = nn.Sequential(OrderedDict([\n",
    "            ('l1', nn.Linear(input_size,hl1)),\n",
    "            ('a1', nn.Sigmoid()),\n",
    "            ('l2', nn.Linear(hl1,hl2)),\n",
    "            ('a2', nn.Sigmoid()),\n",
    "            ('l3', nn.Linear(hl2,1)),\n",
    "            ('a3', StepActivation()),\n",
    "        ]))\n",
    "    \n",
    "    def forward(self, x):\n",
    "        x = self.nn(x)\n",
    "\n",
    "        return x"
   ]
  },
  {
   "cell_type": "markdown",
   "metadata": {},
   "source": [
    "### Network definition"
   ]
  },
  {
   "cell_type": "code",
   "execution_count": 5,
   "metadata": {},
   "outputs": [],
   "source": [
    "class Net(nn.Module):\n",
    "    def __init__(self):\n",
    "        super().__init__()\n",
    "\n",
    "        self.net = nn.Sequential(OrderedDict([\n",
    "            ('nets', Parallel(OrderedDict([\n",
    "                ('apx1', ApproxNet()),\n",
    "                ('apx2', ApproxNet()),\n",
    "                ('apx3', ApproxNet()),\n",
    "            ]))),\n",
    "            ('or_', MaxLayer()),\n",
    "        ]))\n",
    "\n",
    "    def forward(self, input):\n",
    "        return self.net(input)"
   ]
  },
  {
   "cell_type": "markdown",
   "metadata": {},
   "source": [
    "## Network evaluation"
   ]
  },
  {
   "cell_type": "code",
   "execution_count": 6,
   "metadata": {},
   "outputs": [
    {
     "name": "stdout",
     "output_type": "stream",
     "text": [
      "0.851063829787234 {0.0: 0.768595041322314, 1.0: 0.9128630705394191}\n",
      "0.8387096774193549 {0.0: 0.6538461538461539, 1.0: 0.9629629629629629}\n"
     ]
    }
   ],
   "source": [
    "model = Net()\n",
    "criterion = nn.BCELoss()\n",
    "optimizer = Adam(model.parameters(), lr=1e-2, weight_decay=1e-6)\n",
    "\n",
    "model.net.nets.register_forward_hook(get_intermediate_outputs(\"parallel_out\"))\n",
    "train_index, valid_index = torch.utils.data.random_split(range(x_data.size(0)), [0.9, 0.1])\n",
    "\n",
    "x_train, y_train = x_data[train_index], y_data[train_index]\n",
    "x_valid, y_valid = x_data[valid_index], y_data[valid_index]\n",
    "\n",
    "train_model(x_train, y_train, model, criterion, optimizer, 500)\n",
    "model.eval()\n",
    "pred_train = model(x_train).detach()\n",
    "pred_valid = model(x_valid).detach()\n",
    "\n",
    "print(metrics.f1_score(y_train, pred_train), cov_score(y_train, pred_train))\n",
    "print(metrics.f1_score(y_valid, pred_valid), cov_score(y_valid, pred_valid))"
   ]
  },
  {
   "cell_type": "code",
   "execution_count": 7,
   "metadata": {},
   "outputs": [],
   "source": [
    "for param in model.parameters():\n",
    "    param.requires_grad = False\n",
    "\n",
    "model.net.nets.add_module(\"nn\", BigNet())"
   ]
  },
  {
   "cell_type": "code",
   "execution_count": 8,
   "metadata": {},
   "outputs": [
    {
     "name": "stdout",
     "output_type": "stream",
     "text": [
      "0.8527131782945737 {0.0: 0.7727272727272727, 1.0: 0.9128630705394191}\n",
      "0.8387096774193549 {0.0: 0.6538461538461539, 1.0: 0.9629629629629629}\n"
     ]
    }
   ],
   "source": [
    "train_model(x_train, y_train, model, criterion, optimizer, 500)\n",
    "model.eval()\n",
    "pred_train = model(x_train).detach()\n",
    "pred_valid = model(x_valid).detach()\n",
    "\n",
    "print(metrics.f1_score(y_train, pred_train), cov_score(y_train, pred_train))\n",
    "print(metrics.f1_score(y_valid, pred_valid), cov_score(y_valid, pred_valid))"
   ]
  },
  {
   "cell_type": "markdown",
   "metadata": {},
   "source": [
    "### Comments\n",
    "\n",
    "very small increase in both metrics (sometimes even decrease in performances)"
   ]
  }
 ],
 "metadata": {
  "kernelspec": {
   "display_name": "odd",
   "language": "python",
   "name": "python3"
  },
  "language_info": {
   "codemirror_mode": {
    "name": "ipython",
    "version": 3
   },
   "file_extension": ".py",
   "mimetype": "text/x-python",
   "name": "python",
   "nbconvert_exporter": "python",
   "pygments_lexer": "ipython3",
   "version": "3.10.9"
  }
 },
 "nbformat": 4,
 "nbformat_minor": 2
}
