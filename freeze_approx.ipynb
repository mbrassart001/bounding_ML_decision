{
 "cells": [
  {
   "cell_type": "markdown",
   "metadata": {},
   "source": [
    "## Imports"
   ]
  },
  {
   "cell_type": "code",
   "execution_count": 1,
   "metadata": {},
   "outputs": [],
   "source": [
    "%load_ext autoreload\n",
    "%autoreload 2\n",
    "\n",
    "import sys\n",
    "import os\n",
    "\n",
    "import torch\n",
    "import torch.nn as nn\n",
    "import pandas as pd\n",
    "import matplotlib.pyplot as plt\n",
    "\n",
    "from collections import OrderedDict \n",
    "from sklearn import metrics\n",
    "from torch.optim import Adam\n",
    "\n",
    "sys.path.append(os.path.abspath(''))\n",
    "\n",
    "import utils.more_torch_functions as mtf\n",
    "import datasets\n",
    "\n",
    "from utils.custom_loss import AsymBCELoss\n",
    "from utils.custom_activations import StepActivation\n",
    "from utils.modules import Parallel, MaxLayer\n",
    "from utils.misc import train_model, cov_score\n",
    "\n",
    "# torch.autograd.set_detect_anomaly(True)"
   ]
  },
  {
   "cell_type": "markdown",
   "metadata": {},
   "source": [
    "## Load data"
   ]
  },
  {
   "cell_type": "code",
   "execution_count": 2,
   "metadata": {},
   "outputs": [
    {
     "name": "stdout",
     "output_type": "stream",
     "text": [
      "torch.Size([536, 8])\n"
     ]
    }
   ],
   "source": [
    "np_x, np_y = datasets.DiabetesDataset.get_dataset(balancing=True, discretizing=False, hot_encoding=True)\n",
    "x_data, y_data = torch.Tensor(np_x), torch.Tensor(np_y)\n",
    "input_size = x_data.size(1)\n",
    "print(x_data.size())"
   ]
  },
  {
   "cell_type": "markdown",
   "metadata": {},
   "source": [
    "## Hooks"
   ]
  },
  {
   "cell_type": "code",
   "execution_count": 3,
   "metadata": {},
   "outputs": [],
   "source": [
    "intermediate_outputs = {}\n",
    "def get_intermediate_outputs(name):\n",
    "    def hook(model, input, output):\n",
    "        if model.training:\n",
    "            intermediate_outputs.setdefault(name, dict())[\"train\"] = output\n",
    "        else:\n",
    "            intermediate_outputs.setdefault(name, dict())[\"valid\"] = output\n",
    "    return hook\n",
    "\n",
    "def true_label_for_backward(train, valid):\n",
    "    def hook(model, input):\n",
    "        if model.training:\n",
    "            model.true_labels = train\n",
    "        else:\n",
    "            model.true_labels = valid\n",
    "    return hook\n",
    "\n",
    "# créer hook fonction de perte pour meilleur backward ? (comparer individuellement les sorties des réseaux ???)"
   ]
  },
  {
   "cell_type": "markdown",
   "metadata": {},
   "source": [
    "## Networks"
   ]
  },
  {
   "cell_type": "markdown",
   "metadata": {},
   "source": [
    "### Network parts"
   ]
  },
  {
   "cell_type": "code",
   "execution_count": 4,
   "metadata": {},
   "outputs": [],
   "source": [
    "class ApproxNet(nn.Module):\n",
    "    def __init__(self):\n",
    "        super().__init__()\n",
    "        \n",
    "        hl1 = 10\n",
    "\n",
    "        self.nn = nn.Sequential(OrderedDict([\n",
    "            ('l1', nn.Linear(input_size,hl1)),\n",
    "            ('a1', StepActivation()),\n",
    "            ('l2', nn.Linear(hl1,1)),\n",
    "            ('a2', StepActivation())\n",
    "        ]))        \n",
    "\n",
    "    def forward(self, x):\n",
    "        x = self.nn(x)\n",
    "\n",
    "        return x\n",
    "\n",
    "class BigNet(nn.Module):\n",
    "    def __init__(self):\n",
    "        super().__init__()\n",
    "\n",
    "        hl1 = 50\n",
    "        hl2 = 25\n",
    "\n",
    "        self. nn = nn.Sequential(OrderedDict([\n",
    "            ('l1', nn.Linear(input_size,hl1)),\n",
    "            ('a1', nn.Sigmoid()),\n",
    "            ('l2', nn.Linear(hl1,hl2)),\n",
    "            ('a2', nn.Sigmoid()),\n",
    "            ('l3', nn.Linear(hl2,1)),\n",
    "            ('a3', StepActivation()),\n",
    "        ]))\n",
    "    \n",
    "    def forward(self, x):\n",
    "        x = self.nn(x)\n",
    "\n",
    "        return x"
   ]
  },
  {
   "cell_type": "markdown",
   "metadata": {},
   "source": [
    "### Network definition"
   ]
  },
  {
   "cell_type": "code",
   "execution_count": 5,
   "metadata": {},
   "outputs": [],
   "source": [
    "class Net(nn.Module):\n",
    "    def __init__(self):\n",
    "        super().__init__()\n",
    "\n",
    "        self.net = nn.Sequential(OrderedDict([\n",
    "            ('nets', Parallel(OrderedDict([\n",
    "                ('apx1', ApproxNet()),\n",
    "                ('apx2', ApproxNet()),\n",
    "                ('apx3', ApproxNet()),\n",
    "            ]))),\n",
    "            ('or_', MaxLayer()),\n",
    "        ]))\n",
    "\n",
    "    def forward(self, input):\n",
    "        return self.net(input)\n",
    "    \n",
    "class BlankNet(nn.Module):\n",
    "    def __init__(self) -> None:\n",
    "        super().__init__()\n",
    "\n",
    "        self.net = nn.Sequential(OrderedDict([\n",
    "            ('nets', Parallel(OrderedDict([\n",
    "            ]))),\n",
    "            ('or_', MaxLayer()),\n",
    "        ]))\n",
    "\n",
    "    def forward(self, input):\n",
    "        return self.net(input)"
   ]
  },
  {
   "cell_type": "markdown",
   "metadata": {},
   "source": [
    "## Network evaluation"
   ]
  },
  {
   "cell_type": "code",
   "execution_count": 6,
   "metadata": {},
   "outputs": [],
   "source": [
    "def eval_model(x_train, y_train, x_valid, y_valid, model, criterion, optimizer):\n",
    "    train_model(x_train, y_train, model, criterion, optimizer, 500)\n",
    "    model.eval()\n",
    "    pred_train = model(x_train).detach()\n",
    "    pred_valid = model(x_valid).detach()\n",
    "\n",
    "    f1_train = metrics.f1_score(y_train, pred_train)\n",
    "    cov_train = cov_score(y_train, pred_train)\n",
    "    f1_valid = metrics.f1_score(y_valid, pred_valid)\n",
    "    cov_valid = cov_score(y_valid, pred_valid)\n",
    "\n",
    "    return f1_train, cov_train, f1_valid, cov_valid\n",
    "\n",
    "def print_eval(x_train, y_train, x_valid, y_valid, model, criterion, optimizer):\n",
    "    f1_train, cov_train, f1_valid, cov_valid = eval_model(x_train, y_train, x_valid, y_valid, model, criterion, optimizer)\n",
    "    print(\n",
    "        f\"{'':<15}{'Train':^15}{'Valid':^15}\",\n",
    "        f\"{'F1 score':<15}{f1_train:^15.3f}{f1_valid:^15.3f}\",\n",
    "        f\"{'Coverage [0]':<15}{cov_train[0]:^15.3f}{cov_valid[0]:^15.3f}\",\n",
    "        f\"{'         [1]':<15}{cov_train[1]:^15.3f}{cov_valid[1]:^15.3f}\",\n",
    "        sep=\"\\n\"\n",
    "    )"
   ]
  },
  {
   "cell_type": "code",
   "execution_count": 7,
   "metadata": {},
   "outputs": [
    {
     "name": "stdout",
     "output_type": "stream",
     "text": [
      "                    Train          Valid     \n",
      "F1 score            0.855          0.781     \n",
      "Coverage [0]        0.798          0.560     \n",
      "         [1]        0.900          0.893     \n"
     ]
    }
   ],
   "source": [
    "model = Net()\n",
    "criterion = nn.BCELoss()\n",
    "optimizer = Adam(model.parameters(), lr=1e-2, weight_decay=1e-6)\n",
    "\n",
    "model.net.nets.register_forward_hook(get_intermediate_outputs(\"parallel_out\"))\n",
    "train_index, valid_index = torch.utils.data.random_split(range(x_data.size(0)), [0.9, 0.1])\n",
    "\n",
    "x_train, y_train = x_data[train_index], y_data[train_index]\n",
    "x_valid, y_valid = x_data[valid_index], y_data[valid_index]\n",
    "\n",
    "print_eval(x_train, y_train, x_valid, y_valid, model, criterion, optimizer)"
   ]
  },
  {
   "cell_type": "code",
   "execution_count": 8,
   "metadata": {},
   "outputs": [
    {
     "name": "stdout",
     "output_type": "stream",
     "text": [
      "                    Train          Valid     \n",
      "F1 score            0.862          0.781     \n",
      "Coverage [0]        0.798          0.560     \n",
      "         [1]        0.912          0.893     \n"
     ]
    }
   ],
   "source": [
    "for param in model.parameters():\n",
    "    param.requires_grad = False\n",
    "\n",
    "model.net.nets.add_module(\"nn\", BigNet())\n",
    "optimizer = Adam(model.net.nets.nn.parameters(), lr=1e-2, weight_decay=1e-6)\n",
    "\n",
    "print_eval(x_train, y_train, x_valid, y_valid, model, criterion, optimizer)"
   ]
  },
  {
   "cell_type": "markdown",
   "metadata": {},
   "source": [
    "### Comments\n",
    "\n",
    "very small increase in both metrics (sometimes even decreases in performances)"
   ]
  },
  {
   "cell_type": "code",
   "execution_count": 9,
   "metadata": {},
   "outputs": [],
   "source": [
    "model = BlankNet()\n",
    "criterion = AsymBCELoss(5)\n",
    "\n",
    "n_apx = 10\n",
    "\n",
    "apx_metrics = {f\"{set}/{metric}\": list() for metric in (\"f1\", \"cov0\", \"cov1\") for set in (\"train\", \"valid\")}\n",
    "for apxi in (f\"apx{i}\" for i in range(1, n_apx+1)):\n",
    "    for param in model.parameters():\n",
    "        param.requires_grad = False\n",
    "    model.net.nets.add_module(apxi, ApproxNet())\n",
    "    optimizer = Adam(getattr(model.net.nets, apxi).parameters(), lr=1e-2, weight_decay=1e-6)\n",
    "\n",
    "    f1t, covt, f1v , covv = eval_model(x_train, y_train, x_valid, y_valid, model, criterion, optimizer)\n",
    "    apx_metrics[\"train/f1\"].append(f1t)\n",
    "    apx_metrics[\"valid/f1\"].append(f1v)\n",
    "    apx_metrics[\"train/cov0\"].append(covt[0])\n",
    "    apx_metrics[\"valid/cov0\"].append(covv[0])\n",
    "    apx_metrics[\"train/cov1\"].append(covt[1])\n",
    "    apx_metrics[\"valid/cov1\"].append(covv[1])"
   ]
  },
  {
   "cell_type": "code",
   "execution_count": 10,
   "metadata": {},
   "outputs": [
    {
     "data": {
      "image/png": "[encoded data removed]",
      "text/plain": [
       "<Figure size 640x480 with 6 Axes>"
      ]
     },
     "metadata": {},
     "output_type": "display_data"
    }
   ],
   "source": [
    "fig, axs = plt.subplots(3,2)\n",
    "\n",
    "x_axis = list(range(1, n_apx+1))\n",
    "for ax, metric in zip(axs.flat, apx_metrics.values()):\n",
    "    ax.plot(x_axis, metric)\n",
    "    # ax.set_ylim(0,1)\n",
    "\n",
    "cols = [\"Train\", \"Valid\"]\n",
    "rows = [\"F1 score\", \"Coverage 0\", \"Coverage 1\"]\n",
    "\n",
    "pad = 5\n",
    "for ax, col in zip(axs[0], cols):\n",
    "    ax.annotate(col, xy=(0.5, 1), xytext=(0, pad),\n",
    "                xycoords='axes fraction', textcoords='offset points',\n",
    "                size='large', ha='center', va='baseline')\n",
    "\n",
    "for ax, row in zip(axs[:,0], rows):\n",
    "    ax.annotate(row, xy=(0, 0.5), xytext=(-ax.yaxis.labelpad - pad, 0),\n",
    "                xycoords=ax.yaxis.label, textcoords='offset points',\n",
    "                size='large', ha='right', va='center')\n",
    "\n",
    "fig.tight_layout()\n",
    "fig.subplots_adjust(left=0, top=1.2)"
   ]
  },
  {
   "cell_type": "markdown",
   "metadata": {},
   "source": [
    "### Paramètres\n",
    "\n",
    "- nombre d'epochs\n",
    "- nombre d'approx\n",
    "- ré-entrainement à chaque approx ajoutée (oui/non/pondération???)\n",
    "- paramètres optimizer/criterion\n",
    "\n",
    "### But\n",
    "\n",
    "- trouver le bon équilibre entre une bonne couverture de 1 et la couverture de 0 (mauvaise classification du label)"
   ]
  }
 ],
 "metadata": {
  "kernelspec": {
   "display_name": "odd",
   "language": "python",
   "name": "python3"
  },
  "language_info": {
   "codemirror_mode": {
    "name": "ipython",
    "version": 3
   },
   "file_extension": ".py",
   "mimetype": "text/x-python",
   "name": "python",
   "nbconvert_exporter": "python",
   "pygments_lexer": "ipython3",
   "version": "3.10.9"
  }
 },
 "nbformat": 4,
 "nbformat_minor": 2
}
