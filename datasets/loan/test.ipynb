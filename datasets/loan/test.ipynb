{
 "cells": [
  {
   "cell_type": "code",
   "execution_count": 1,
   "metadata": {},
   "outputs": [],
   "source": [
    "import sys\n",
    "import os\n",
    "import random\n",
    "\n",
    "import torch\n",
    "import torch.nn as nn\n",
    "import torch.nn.functional as F\n",
    "import pandas as pd\n",
    "import matplotlib.pyplot as plt\n",
    "\n",
    "from sklearn import metrics\n",
    "from torch.autograd import Function\n",
    "from torch.optim import Adam\n",
    "from graphviz import Source\n",
    "from pyeda.boolalg.bdd import bdd2expr\n",
    "\n",
    "filepath = os.path.abspath('')\n",
    "sys.path.append(os.path.join(filepath, \"..\", \"..\", \"compiling_nn\"))\n",
    "from build_odd import compile_nn"
   ]
  },
  {
   "cell_type": "code",
   "execution_count": 2,
   "metadata": {},
   "outputs": [],
   "source": [
    "class StepFunction(Function):\n",
    "    @staticmethod\n",
    "    def forward(ctx, input):\n",
    "        output = torch.where(input>=0, torch.tensor(1.0), torch.tensor(0.0))\n",
    "        ctx.save_for_backward(input)\n",
    "        return output\n",
    "    \n",
    "    @staticmethod\n",
    "    def backward(ctx, grad_output):\n",
    "        input, = ctx.saved_tensors\n",
    "        grad_input = torch.zeros_like(input)\n",
    "        return grad_input\n",
    "    \n",
    "class StepActivation(nn.Module):\n",
    "    def forward(self, input):\n",
    "        return StepFunction.apply(input)\n",
    "\n",
    "class Net(nn.Module):\n",
    "    def __init__(self):\n",
    "        super().__init__()\n",
    "        self.l1 = nn.Linear(25,5)\n",
    "        self.a1 = {True: nn.Sigmoid(), False: StepActivation()}\n",
    "        self.l2 = nn.Linear(5,1)\n",
    "        self.a2 = {True: nn.Sigmoid(), False: StepActivation()}\n",
    "    \n",
    "    def forward(self, x):\n",
    "        x = self.l1(x)\n",
    "        x = self.a1[self.training](x)\n",
    "        x = self.l2(x)\n",
    "        x = self.a2[self.training](x)\n",
    "        return x"
   ]
  },
  {
   "cell_type": "code",
   "execution_count": 3,
   "metadata": {},
   "outputs": [],
   "source": [
    "# df = pd.read_csv(\"loan_data_set.csv\", sep=\",\")\n",
    "\n",
    "# func = {\"Gender\" :              lambda x : x==\"Male\",\n",
    "#         \"Married\":              lambda x : x==\"Yes\",\n",
    "#         # \"Dependents\":           lambda x : x!=\"0\",          # hot encoding\n",
    "#         \"Education\":            lambda x : x==\"Graduate\",\n",
    "#         \"Self_Employed\":        lambda x : x==\"Yes\",\n",
    "#         # \"ApplicantIncome\":      lambda x : x > 3000,        #\n",
    "#         # \"CoapplicantIncome\":    lambda x : x > 0,           #\n",
    "#         # \"LoanAmount\":           lambda x : x >= 100,        #\n",
    "#         # \"Loan_Amount_Term\":     lambda x : x >= 360,        #\n",
    "#         \"Credit_History\":       lambda x : bool(x),\n",
    "#         # \"Property_Area\":        lambda x : x==\"Rural\",      # hot encoding\n",
    "#         \"Loan_Status\":          lambda x : x==\"Y\"}\n",
    "\n",
    "# for c in df.columns:\n",
    "#     df[c] = df[c].apply(func.get(c, lambda x : x))\n",
    "\n",
    "# df_x = df[[\"Gender\", \"Married\", \"Dependents\", \"Education\", \"Self_Employed\", \"ApplicantIncome\", \"CoapplicantIncome\", \"LoanAmount\", \"Loan_Amount_Term\", \"Credit_History\", \"Property_Area\"]]\n",
    "# df_y = df[[\"Loan_Status\"]]\n",
    "\n",
    "# x = torch.Tensor(df_x.to_numpy(dtype=int))\n",
    "# y = torch.Tensor(df_y.to_numpy(dtype=int))\n",
    "\n",
    "# print(x.shape, y.shape)"
   ]
  },
  {
   "cell_type": "code",
   "execution_count": 4,
   "metadata": {},
   "outputs": [
    {
     "name": "stdout",
     "output_type": "stream",
     "text": [
      "torch.Size([614, 25]) torch.Size([614, 1])\n"
     ]
    }
   ],
   "source": [
    "df = pd.read_csv(\"loan_data_set.csv\", sep=\",\")\n",
    "df = df.drop(columns=[\"Loan_ID\"])\n",
    "\n",
    "df_y = pd.get_dummies(df[[\"Loan_Status\"]], drop_first=True)\n",
    "df_x = df.drop(columns=[\"Loan_Status\"])\n",
    "\n",
    "nunique = df_x.nunique(axis=0)\n",
    "df_x_mean = df_x.mean(axis=0, numeric_only=True)\n",
    "\n",
    "for col, n in nunique.items():\n",
    "    if n > 4:\n",
    "        df_x[col] = df_x[col].apply(lambda x : min(4, x//(.5*df_x_mean[col])))\n",
    "\n",
    "df_x = pd.get_dummies(df_x, columns=df_x.columns, drop_first=True)\n",
    "\n",
    "x = torch.Tensor(df_x.to_numpy(dtype=int))\n",
    "y = torch.Tensor(df_y.to_numpy(dtype=int))\n",
    "\n",
    "print(x.shape, y.shape)"
   ]
  },
  {
   "cell_type": "code",
   "execution_count": 5,
   "metadata": {},
   "outputs": [
    {
     "name": "stdout",
     "output_type": "stream",
     "text": [
      "tensor(0.6052, grad_fn=<BinaryCrossEntropyBackward0>) tensor(30.4560, grad_fn=<BinaryCrossEntropyBackward0>)\n",
      "tensor(0.5603, grad_fn=<BinaryCrossEntropyBackward0>) tensor(29.3160, grad_fn=<BinaryCrossEntropyBackward0>)\n",
      "tensor(0.5160, grad_fn=<BinaryCrossEntropyBackward0>) tensor(24.7557, grad_fn=<BinaryCrossEntropyBackward0>)\n",
      "tensor(0.4972, grad_fn=<BinaryCrossEntropyBackward0>) tensor(22.9642, grad_fn=<BinaryCrossEntropyBackward0>)\n",
      "tensor(0.4763, grad_fn=<BinaryCrossEntropyBackward0>) tensor(21.6612, grad_fn=<BinaryCrossEntropyBackward0>)\n",
      "tensor(0.4524, grad_fn=<BinaryCrossEntropyBackward0>) tensor(20.8469, grad_fn=<BinaryCrossEntropyBackward0>)\n",
      "tensor(0.4275, grad_fn=<BinaryCrossEntropyBackward0>) tensor(20.6840, grad_fn=<BinaryCrossEntropyBackward0>)\n",
      "tensor(0.4028, grad_fn=<BinaryCrossEntropyBackward0>) tensor(19.7068, grad_fn=<BinaryCrossEntropyBackward0>)\n",
      "tensor(0.3822, grad_fn=<BinaryCrossEntropyBackward0>) tensor(21.3355, grad_fn=<BinaryCrossEntropyBackward0>)\n",
      "tensor(0.3656, grad_fn=<BinaryCrossEntropyBackward0>) tensor(21.4984, grad_fn=<BinaryCrossEntropyBackward0>)\n",
      "tensor(0.3517, grad_fn=<BinaryCrossEntropyBackward0>) tensor(21.0098, grad_fn=<BinaryCrossEntropyBackward0>)\n",
      "tensor(0.3401, grad_fn=<BinaryCrossEntropyBackward0>) tensor(21.1726, grad_fn=<BinaryCrossEntropyBackward0>)\n",
      "tensor(0.3302, grad_fn=<BinaryCrossEntropyBackward0>) tensor(21.4984, grad_fn=<BinaryCrossEntropyBackward0>)\n",
      "tensor(0.3215, grad_fn=<BinaryCrossEntropyBackward0>) tensor(20.6840, grad_fn=<BinaryCrossEntropyBackward0>)\n",
      "tensor(0.3136, grad_fn=<BinaryCrossEntropyBackward0>) tensor(20.6840, grad_fn=<BinaryCrossEntropyBackward0>)\n",
      "tensor(0.3060, grad_fn=<BinaryCrossEntropyBackward0>) tensor(19.7068, grad_fn=<BinaryCrossEntropyBackward0>)\n",
      "tensor(0.2988, grad_fn=<BinaryCrossEntropyBackward0>) tensor(19.5440, grad_fn=<BinaryCrossEntropyBackward0>)\n",
      "tensor(0.2926, grad_fn=<BinaryCrossEntropyBackward0>) tensor(18.8925, grad_fn=<BinaryCrossEntropyBackward0>)\n",
      "tensor(0.2872, grad_fn=<BinaryCrossEntropyBackward0>) tensor(17.7524, grad_fn=<BinaryCrossEntropyBackward0>)\n",
      "tensor(0.2824, grad_fn=<BinaryCrossEntropyBackward0>) tensor(16.7752, grad_fn=<BinaryCrossEntropyBackward0>)\n"
     ]
    }
   ],
   "source": [
    "net = Net()\n",
    "\n",
    "max_epoch = 1000\n",
    "learning_rate = 1e-2\n",
    "\n",
    "loss_fn = nn.BCELoss()\n",
    "optimizer = Adam(net.parameters(), lr=learning_rate)\n",
    "\n",
    "for epoch in range(max_epoch):\n",
    "    net.train()\n",
    "    y_pred = net(x)\n",
    "    loss = loss_fn(y_pred, y)\n",
    "\n",
    "    net.zero_grad()\n",
    "    loss.backward()\n",
    "    optimizer.step()\n",
    "\n",
    "    net.eval()\n",
    "    y_pred = net(x)\n",
    "    loss_step = loss_fn(y_pred, y)\n",
    "    if (epoch+1)%50==0:\n",
    "        print(loss, loss_step)"
   ]
  },
  {
   "cell_type": "code",
   "execution_count": 6,
   "metadata": {},
   "outputs": [
    {
     "data": {
      "image/png": "[encoded data removed]",
      "text/plain": [
       "<Figure size 640x480 with 2 Axes>"
      ]
     },
     "metadata": {},
     "output_type": "display_data"
    }
   ],
   "source": [
    "net.eval()\n",
    "confusion_matrix = metrics.confusion_matrix(y, net(x).detach().numpy())\n",
    "\n",
    "cm_display = metrics.ConfusionMatrixDisplay(confusion_matrix = confusion_matrix, display_labels = [False, True])\n",
    "\n",
    "cm_display.plot()\n",
    "plt.show() "
   ]
  },
  {
   "cell_type": "code",
   "execution_count": 7,
   "metadata": {},
   "outputs": [],
   "source": [
    "# bdd, bdd_vars = compile_nn(net)\n",
    "# # display(Source(bdd.to_dot()))"
   ]
  },
  {
   "cell_type": "markdown",
   "metadata": {},
   "source": [
    "### example1.pth\n",
    "\n",
    "D'après le BDD, on peut dire que le prêt est refusé si:\n",
    " - $\\neg$ Credit History,\n",
    " - Self-Employed\n",
    " - $\\neg$ Education\n",
    " - $\\neg$ Married\n",
    " - Si c'est une femme, Dependants"
   ]
  },
  {
   "cell_type": "code",
   "execution_count": 8,
   "metadata": {},
   "outputs": [],
   "source": [
    "torch.save(net.state_dict(), \"example.pth\")"
   ]
  },
  {
   "cell_type": "markdown",
   "metadata": {},
   "source": [
    "# Balance class"
   ]
  },
  {
   "cell_type": "code",
   "execution_count": 9,
   "metadata": {},
   "outputs": [
    {
     "name": "stdout",
     "output_type": "stream",
     "text": [
      "Loan_Status_Y\n",
      "0                192\n",
      "1                192\n",
      "dtype: int64\n",
      "torch.Size([384, 25]) torch.Size([384, 1])\n"
     ]
    }
   ],
   "source": [
    "itrue = df_y.index[df_y[\"Loan_Status_Y\"]==1].tolist()\n",
    "ifalse = df_y.index[df_y[\"Loan_Status_Y\"]==0].tolist()\n",
    "\n",
    "swap = len(itrue) > len(ifalse)\n",
    "if swap:\n",
    "    itrue,ifalse=ifalse,itrue\n",
    "\n",
    "ifalse = random.choices(ifalse, k=len(itrue))\n",
    "\n",
    "if swap:\n",
    "    itrue,ifalse=ifalse,itrue\n",
    "\n",
    "print(df_y.iloc[itrue+ifalse].value_counts())\n",
    "\n",
    "x_r=torch.Tensor(df_x.iloc[itrue+ifalse].to_numpy(dtype=int))\n",
    "y_r=torch.Tensor(df_y.iloc[itrue+ifalse].to_numpy(dtype=int))\n",
    "\n",
    "print(x_r.shape,y_r.shape)"
   ]
  },
  {
   "cell_type": "code",
   "execution_count": 10,
   "metadata": {},
   "outputs": [
    {
     "name": "stdout",
     "output_type": "stream",
     "text": [
      "tensor(0.6293, grad_fn=<BinaryCrossEntropyBackward0>) tensor(34.8958, grad_fn=<BinaryCrossEntropyBackward0>)\n",
      "tensor(0.5756, grad_fn=<BinaryCrossEntropyBackward0>) tensor(32.2917, grad_fn=<BinaryCrossEntropyBackward0>)\n",
      "tensor(0.5355, grad_fn=<BinaryCrossEntropyBackward0>) tensor(27.0833, grad_fn=<BinaryCrossEntropyBackward0>)\n",
      "tensor(0.4919, grad_fn=<BinaryCrossEntropyBackward0>) tensor(25.7812, grad_fn=<BinaryCrossEntropyBackward0>)\n",
      "tensor(0.4466, grad_fn=<BinaryCrossEntropyBackward0>) tensor(21.3542, grad_fn=<BinaryCrossEntropyBackward0>)\n",
      "tensor(0.4000, grad_fn=<BinaryCrossEntropyBackward0>) tensor(20.0521, grad_fn=<BinaryCrossEntropyBackward0>)\n",
      "tensor(0.3617, grad_fn=<BinaryCrossEntropyBackward0>) tensor(20.8333, grad_fn=<BinaryCrossEntropyBackward0>)\n",
      "tensor(0.3297, grad_fn=<BinaryCrossEntropyBackward0>) tensor(16.9271, grad_fn=<BinaryCrossEntropyBackward0>)\n",
      "tensor(0.3047, grad_fn=<BinaryCrossEntropyBackward0>) tensor(16.1458, grad_fn=<BinaryCrossEntropyBackward0>)\n",
      "tensor(0.2850, grad_fn=<BinaryCrossEntropyBackward0>) tensor(16.9271, grad_fn=<BinaryCrossEntropyBackward0>)\n",
      "tensor(0.2670, grad_fn=<BinaryCrossEntropyBackward0>) tensor(15.1042, grad_fn=<BinaryCrossEntropyBackward0>)\n",
      "tensor(0.2526, grad_fn=<BinaryCrossEntropyBackward0>) tensor(14.8438, grad_fn=<BinaryCrossEntropyBackward0>)\n",
      "tensor(0.2408, grad_fn=<BinaryCrossEntropyBackward0>) tensor(14.8438, grad_fn=<BinaryCrossEntropyBackward0>)\n",
      "tensor(0.2305, grad_fn=<BinaryCrossEntropyBackward0>) tensor(14.3229, grad_fn=<BinaryCrossEntropyBackward0>)\n",
      "tensor(0.2208, grad_fn=<BinaryCrossEntropyBackward0>) tensor(14.8438, grad_fn=<BinaryCrossEntropyBackward0>)\n",
      "tensor(0.2119, grad_fn=<BinaryCrossEntropyBackward0>) tensor(14.8438, grad_fn=<BinaryCrossEntropyBackward0>)\n",
      "tensor(0.2040, grad_fn=<BinaryCrossEntropyBackward0>) tensor(13.0208, grad_fn=<BinaryCrossEntropyBackward0>)\n",
      "tensor(0.1972, grad_fn=<BinaryCrossEntropyBackward0>) tensor(13.5417, grad_fn=<BinaryCrossEntropyBackward0>)\n",
      "tensor(0.1878, grad_fn=<BinaryCrossEntropyBackward0>) tensor(15.6250, grad_fn=<BinaryCrossEntropyBackward0>)\n",
      "tensor(0.1807, grad_fn=<BinaryCrossEntropyBackward0>) tensor(13.5417, grad_fn=<BinaryCrossEntropyBackward0>)\n"
     ]
    }
   ],
   "source": [
    "net = Net()\n",
    "\n",
    "max_epoch = 1000\n",
    "learning_rate = 1e-2\n",
    "\n",
    "loss_fn = nn.BCELoss()\n",
    "optimizer = Adam(net.parameters(), lr=learning_rate)\n",
    "\n",
    "for epoch in range(max_epoch):\n",
    "    net.train()\n",
    "    y_pred = net(x_r)\n",
    "    loss = loss_fn(y_pred, y_r)\n",
    "\n",
    "    net.zero_grad()\n",
    "    loss.backward()\n",
    "    optimizer.step()\n",
    "\n",
    "    net.eval()\n",
    "    y_pred = net(x_r)\n",
    "    loss_step = loss_fn(y_pred, y_r)\n",
    "    if (epoch+1)%50==0:\n",
    "        print(loss, loss_step)"
   ]
  },
  {
   "cell_type": "code",
   "execution_count": 13,
   "metadata": {},
   "outputs": [
    {
     "data": {
      "image/png": "[encoded data removed]",
      "text/plain": [
       "<Figure size 640x480 with 2 Axes>"
      ]
     },
     "metadata": {},
     "output_type": "display_data"
    },
    {
     "data": {
      "image/png": "[encoded data removed]",
      "text/plain": [
       "<Figure size 640x480 with 2 Axes>"
      ]
     },
     "metadata": {},
     "output_type": "display_data"
    }
   ],
   "source": [
    "net.eval()\n",
    "confusion_matrix = metrics.confusion_matrix(y_r, net(x_r).detach().numpy())\n",
    "\n",
    "cm_display = metrics.ConfusionMatrixDisplay(confusion_matrix = confusion_matrix, display_labels = [False, True])\n",
    "\n",
    "cm_display.plot()\n",
    "plt.show() \n",
    "\n",
    "confusion_matrix = metrics.confusion_matrix(y, net(x).detach().numpy())\n",
    "\n",
    "cm_display = metrics.ConfusionMatrixDisplay(confusion_matrix = confusion_matrix, display_labels = [False, True])\n",
    "\n",
    "cm_display.plot()\n",
    "plt.show() "
   ]
  },
  {
   "cell_type": "code",
   "execution_count": 12,
   "metadata": {},
   "outputs": [],
   "source": [
    "# bdd, bdd_vars = compile_nn(net)\n",
    "# # display(Source(bdd.to_dot()))"
   ]
  },
  {
   "cell_type": "markdown",
   "metadata": {},
   "source": [
    "finir encadrer ce dataset\n",
    "voir autre dataset Lending club loan\n",
    "binarisation des réseaux de neuronnes\n",
    "random forest encoding\n",
    "\n",
    "****\n",
    "apprendre réseau a partir d'un autre ?? (sans les données) -> meta learning ?\n",
    "\n",
    "====\n",
    "intranet ticket machine crédit BxINP\n"
   ]
  }
 ],
 "metadata": {
  "kernelspec": {
   "display_name": "torch",
   "language": "python",
   "name": "python3"
  },
  "language_info": {
   "codemirror_mode": {
    "name": "ipython",
    "version": 3
   },
   "file_extension": ".py",
   "mimetype": "text/x-python",
   "name": "python",
   "nbconvert_exporter": "python",
   "pygments_lexer": "ipython3",
   "version": "3.10.9"
  }
 },
 "nbformat": 4,
 "nbformat_minor": 2
}
