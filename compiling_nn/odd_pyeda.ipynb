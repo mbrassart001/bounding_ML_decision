{
 "cells": [
  {
   "cell_type": "code",
   "execution_count": 1,
   "metadata": {},
   "outputs": [],
   "source": [
    "import sys\n",
    "import os\n",
    "import time\n",
    "import signal\n",
    "import itertools\n",
    "import numpy as np\n",
    "import torch\n",
    "import torch.nn as nn\n",
    "from torch.autograd import Function\n",
    "import pyeda.inter as inter\n",
    "import pyeda.boolalg as boolalg\n",
    "from tqdm.notebook import trange\n",
    "from graphviz import Digraph, Source\n",
    "from IPython.display import SVG, HTML, display\n",
    "from pprint import pprint\n",
    "\n",
    "sys.path.append(os.path.join(os.path.abspath(\"\"), \"..\"))\n",
    "\n",
    "from compiling_nn.build_odd import ODD, compile_nn\n",
    "from utils.custom_activations import StepActivation\n",
    "\n",
    "infty = float('inf')"
   ]
  },
  {
   "cell_type": "markdown",
   "metadata": {},
   "source": [
    "## Tests"
   ]
  },
  {
   "cell_type": "code",
   "execution_count": 2,
   "metadata": {},
   "outputs": [
    {
     "data": {
      "application/vnd.jupyter.widget-view+json": {
       "model_id": "46e86e98a4a347adb491756e2f760958",
       "version_major": 2,
       "version_minor": 0
      },
      "text/plain": [
       "  0%|          | 0/1000 [00:00<?, ?it/s]"
      ]
     },
     "metadata": {},
     "output_type": "display_data"
    },
    {
     "ename": "AttributeError",
     "evalue": "'NoneType' object has no attribute 'root'",
     "output_type": "error",
     "traceback": [
      "\u001b[0;31m---------------------------------------------------------------------------\u001b[0m",
      "\u001b[0;31mRemoteTraceback\u001b[0m                           Traceback (most recent call last)",
      "\u001b[0;31mRemoteTraceback\u001b[0m: \n\"\"\"\nTraceback (most recent call last):\n  File \"/home/mbrassart001/miniconda3/envs/odd/lib/python3.10/site-packages/pyeda/boolalg/bdd.py\", line 491, in _restrict\n    ret = cache[node]\nKeyError: <pyeda.boolalg.bdd.BDDNode object at 0x781ee9a90430>\n\nDuring handling of the above exception, another exception occurred:\n\nTraceback (most recent call last):\n  File \"/home/mbrassart001/miniconda3/envs/odd/lib/python3.10/site-packages/pyeda/boolalg/bdd.py\", line 491, in _restrict\n    ret = cache[node]\nKeyError: <pyeda.boolalg.bdd.BDDNode object at 0x781ee9a90460>\n\nDuring handling of the above exception, another exception occurred:\n\nTraceback (most recent call last):\n  File \"/home/mbrassart001/miniconda3/envs/odd/lib/python3.10/site-packages/pyeda/boolalg/bdd.py\", line 494, in _restrict\n    val = npoint[node.root]\nKeyError: 7\n\nDuring handling of the above exception, another exception occurred:\n\nTraceback (most recent call last):\n  File \"/home/mbrassart001/miniconda3/envs/odd/lib/python3.10/site-packages/pyeda/boolalg/bdd.py\", line 491, in _restrict\n    ret = cache[node]\nKeyError: <pyeda.boolalg.bdd.BDDNode object at 0x781ee9a90490>\n\nDuring handling of the above exception, another exception occurred:\n\nTraceback (most recent call last):\n  File \"/home/mbrassart001/miniconda3/envs/odd/lib/python3.10/site-packages/pyeda/boolalg/bdd.py\", line 494, in _restrict\n    val = npoint[node.root]\nKeyError: 9\n\nDuring handling of the above exception, another exception occurred:\n\nTraceback (most recent call last):\n  File \"/home/mbrassart001/miniconda3/envs/odd/lib/python3.10/site-packages/pyeda/boolalg/bdd.py\", line 491, in _restrict\n    ret = cache[node]\nKeyError: <pyeda.boolalg.bdd.BDDNode object at 0x781ee9a904c0>\n\nDuring handling of the above exception, another exception occurred:\n\nTraceback (most recent call last):\n  File \"/home/mbrassart001/miniconda3/envs/odd/lib/python3.10/site-packages/pyeda/boolalg/bdd.py\", line 494, in _restrict\n    val = npoint[node.root]\nKeyError: 10\n\nDuring handling of the above exception, another exception occurred:\n\nTraceback (most recent call last):\n  File \"/home/mbrassart001/miniconda3/envs/odd/lib/python3.10/site-packages/pyeda/boolalg/bdd.py\", line 491, in _restrict\n    ret = cache[node]\nKeyError: <pyeda.boolalg.bdd.BDDNode object at 0x781fa86bfc40>\n\nDuring handling of the above exception, another exception occurred:\n\nTraceback (most recent call last):\n  File \"/home/mbrassart001/miniconda3/envs/odd/lib/python3.10/site-packages/pyeda/boolalg/bdd.py\", line 494, in _restrict\n    val = npoint[node.root]\nKeyError: -1\n\nDuring handling of the above exception, another exception occurred:\n\nTraceback (most recent call last):\n  File \"/home/mbrassart001/miniconda3/envs/odd/lib/python3.10/site-packages/pyeda/boolalg/bdd.py\", line 491, in _restrict\n    ret = cache[node]\nKeyError: None\n\nDuring handling of the above exception, another exception occurred:\n\nTraceback (most recent call last):\n  File \"/home/mbrassart001/miniconda3/envs/odd/lib/python3.10/multiprocessing/pool.py\", line 125, in worker\n    result = (True, func(*args, **kwds))\n  File \"/home/mbrassart001/miniconda3/envs/odd/lib/python3.10/multiprocessing/pool.py\", line 51, in starmapstar\n    return list(itertools.starmap(args[0], args[1]))\n  File \"/home/mbrassart001/Thèse/Code/compiling_nn/../compiling_nn/build_odd.py\", line 217, in _combine_odds_mp\n    res_bdd = n_bdd.compose({n_var: p_bdd for p_bdd, n_var in zip(p_bdds, n_vars)})\n  File \"/home/mbrassart001/miniconda3/envs/odd/lib/python3.10/site-packages/pyeda/boolalg/bdd.py\", line 309, in compose\n    fv0, fv1 = _bdd(node).cofactors(v)\n  File \"/home/mbrassart001/miniconda3/envs/odd/lib/python3.10/site-packages/pyeda/boolalg/boolfunc.py\", line 664, in cofactors\n    return tuple(cf for cf in self.iter_cofactors(vs))\n  File \"/home/mbrassart001/miniconda3/envs/odd/lib/python3.10/site-packages/pyeda/boolalg/boolfunc.py\", line 664, in <genexpr>\n    return tuple(cf for cf in self.iter_cofactors(vs))\n  File \"/home/mbrassart001/miniconda3/envs/odd/lib/python3.10/site-packages/pyeda/boolalg/boolfunc.py\", line 649, in iter_cofactors\n    yield self.restrict(point)\n  File \"/home/mbrassart001/miniconda3/envs/odd/lib/python3.10/site-packages/pyeda/boolalg/bdd.py\", line 304, in restrict\n    return _bdd(_restrict(self.node, npoint))\n  File \"/home/mbrassart001/miniconda3/envs/odd/lib/python3.10/site-packages/pyeda/boolalg/bdd.py\", line 501, in _restrict\n    ret = _restrict(child, npoint, cache)\n  File \"/home/mbrassart001/miniconda3/envs/odd/lib/python3.10/site-packages/pyeda/boolalg/bdd.py\", line 496, in _restrict\n    lo = _restrict(node.lo, npoint, cache)\n  File \"/home/mbrassart001/miniconda3/envs/odd/lib/python3.10/site-packages/pyeda/boolalg/bdd.py\", line 496, in _restrict\n    lo = _restrict(node.lo, npoint, cache)\n  File \"/home/mbrassart001/miniconda3/envs/odd/lib/python3.10/site-packages/pyeda/boolalg/bdd.py\", line 496, in _restrict\n    lo = _restrict(node.lo, npoint, cache)\n  [Previous line repeated 1 more time]\n  File \"/home/mbrassart001/miniconda3/envs/odd/lib/python3.10/site-packages/pyeda/boolalg/bdd.py\", line 494, in _restrict\n    val = npoint[node.root]\nAttributeError: 'NoneType' object has no attribute 'root'\n\"\"\"",
      "\nThe above exception was the direct cause of the following exception:\n",
      "\u001b[0;31mAttributeError\u001b[0m                            Traceback (most recent call last)",
      "Cell \u001b[0;32mIn[2], line 53\u001b[0m\n\u001b[1;32m     47\u001b[0m \u001b[38;5;28;01mif\u001b[39;00m TEST:\n\u001b[1;32m     48\u001b[0m     \u001b[38;5;66;03m# for n_weights in trange(1, 11): \u001b[39;00m\n\u001b[1;32m     49\u001b[0m     \u001b[38;5;66;03m#     for _ in range(100):\u001b[39;00m\n\u001b[1;32m     50\u001b[0m     \u001b[38;5;66;03m#         test_odd_build(n_weights)\u001b[39;00m\n\u001b[1;32m     52\u001b[0m     \u001b[38;5;28;01mfor\u001b[39;00m _ \u001b[38;5;129;01min\u001b[39;00m trange(\u001b[38;5;241m1000\u001b[39m):\n\u001b[0;32m---> 53\u001b[0m         \u001b[38;5;28;01mif\u001b[39;00m \u001b[43mtest_combine_odd\u001b[49m\u001b[43m(\u001b[49m\u001b[43m[\u001b[49m\u001b[38;5;241;43m5\u001b[39;49m\u001b[43m,\u001b[49m\u001b[38;5;241;43m5\u001b[39;49m\u001b[43m,\u001b[49m\u001b[38;5;241;43m5\u001b[39;49m\u001b[43m,\u001b[49m\u001b[38;5;241;43m5\u001b[39;49m\u001b[43m,\u001b[49m\u001b[38;5;241;43m1\u001b[39;49m\u001b[43m]\u001b[49m\u001b[43m)\u001b[49m:\n\u001b[1;32m     54\u001b[0m             \u001b[38;5;28;01mbreak\u001b[39;00m\n",
      "Cell \u001b[0;32mIn[2], line 27\u001b[0m, in \u001b[0;36mtest_combine_odd\u001b[0;34m(layers)\u001b[0m\n\u001b[1;32m     25\u001b[0m \u001b[38;5;28;01mdef\u001b[39;00m \u001b[38;5;21mtest_combine_odd\u001b[39m(layers):\n\u001b[1;32m     26\u001b[0m     net \u001b[38;5;241m=\u001b[39m layers2nn(layers)\n\u001b[0;32m---> 27\u001b[0m     bdd, bdd_vars \u001b[38;5;241m=\u001b[39m \u001b[43mcompile_nn\u001b[49m\u001b[43m(\u001b[49m\u001b[43mnet\u001b[49m\u001b[43m)\u001b[49m\n\u001b[1;32m     28\u001b[0m     \u001b[38;5;66;03m# try:\u001b[39;00m\n\u001b[1;32m     29\u001b[0m     \u001b[38;5;28;01mfor\u001b[39;00m p \u001b[38;5;129;01min\u001b[39;00m itertools\u001b[38;5;241m.\u001b[39mproduct([\u001b[38;5;241m0\u001b[39m, \u001b[38;5;241m1\u001b[39m],repeat\u001b[38;5;241m=\u001b[39m\u001b[38;5;28mlen\u001b[39m(bdd_vars)):\n",
      "File \u001b[0;32m~/Thèse/Code/compiling_nn/../compiling_nn/build_odd.py:277\u001b[0m, in \u001b[0;36mcompile_nn\u001b[0;34m(net, verbose)\u001b[0m\n\u001b[1;32m    274\u001b[0m     \u001b[38;5;28mprint\u001b[39m(\u001b[38;5;124mf\u001b[39m\u001b[38;5;124m\"\u001b[39m\u001b[38;5;124mDONE (\u001b[39m\u001b[38;5;132;01m{\u001b[39;00mtime\u001b[38;5;241m.\u001b[39mperf_counter()\u001b[38;5;241m-\u001b[39mstart_convert\u001b[38;5;132;01m:\u001b[39;00m\u001b[38;5;124m1.2e\u001b[39m\u001b[38;5;132;01m}\u001b[39;00m\u001b[38;5;124m)\u001b[39m\u001b[38;5;130;01m\\n\u001b[39;00m\u001b[38;5;124mcombining ODDs     : \u001b[39m\u001b[38;5;124m\"\u001b[39m, end\u001b[38;5;241m=\u001b[39m\u001b[38;5;124m\"\u001b[39m\u001b[38;5;124m\"\u001b[39m)\n\u001b[1;32m    275\u001b[0m     start_combine \u001b[38;5;241m=\u001b[39m time\u001b[38;5;241m.\u001b[39mperf_counter()\n\u001b[0;32m--> 277\u001b[0m res \u001b[38;5;241m=\u001b[39m \u001b[43mcombine_odds_mp\u001b[49m\u001b[43m(\u001b[49m\u001b[43modds\u001b[49m\u001b[43m)\u001b[49m\n\u001b[1;32m    278\u001b[0m \u001b[38;5;28;01mif\u001b[39;00m verbose:\n\u001b[1;32m    279\u001b[0m     \u001b[38;5;28mprint\u001b[39m(\u001b[38;5;124mf\u001b[39m\u001b[38;5;124m\"\u001b[39m\u001b[38;5;124mDONE (\u001b[39m\u001b[38;5;132;01m{\u001b[39;00mtime\u001b[38;5;241m.\u001b[39mperf_counter()\u001b[38;5;241m-\u001b[39mstart_combine\u001b[38;5;132;01m:\u001b[39;00m\u001b[38;5;124m1.2e\u001b[39m\u001b[38;5;132;01m}\u001b[39;00m\u001b[38;5;124m)\u001b[39m\u001b[38;5;124m\"\u001b[39m)\n",
      "File \u001b[0;32m~/Thèse/Code/compiling_nn/../compiling_nn/build_odd.py:227\u001b[0m, in \u001b[0;36mcombine_odds_mp\u001b[0;34m(odds, return_vars)\u001b[0m\n\u001b[1;32m    224\u001b[0m next_layer \u001b[38;5;241m=\u001b[39m [(odd\u001b[38;5;241m.\u001b[39mbdd, odd\u001b[38;5;241m.\u001b[39meda_vars) \u001b[38;5;28;01mfor\u001b[39;00m odd \u001b[38;5;129;01min\u001b[39;00m odds_next]\n\u001b[1;32m    226\u001b[0m \u001b[38;5;28;01mwith\u001b[39;00m Pool(processes\u001b[38;5;241m=\u001b[39m\u001b[38;5;241m4\u001b[39m) \u001b[38;5;28;01mas\u001b[39;00m pool:\n\u001b[0;32m--> 227\u001b[0m     switch_layer \u001b[38;5;241m=\u001b[39m \u001b[43mpool\u001b[49m\u001b[38;5;241;43m.\u001b[39;49m\u001b[43mstarmap\u001b[49m\u001b[43m(\u001b[49m\u001b[43m_combine_odds_mp\u001b[49m\u001b[43m,\u001b[49m\u001b[43m \u001b[49m\u001b[43m[\u001b[49m\u001b[43m(\u001b[49m\u001b[43m[\u001b[49m\u001b[43mx\u001b[49m\u001b[43m[\u001b[49m\u001b[38;5;241;43m0\u001b[39;49m\u001b[43m]\u001b[49m\u001b[43m \u001b[49m\u001b[38;5;28;43;01mfor\u001b[39;49;00m\u001b[43m \u001b[49m\u001b[43mx\u001b[49m\u001b[43m \u001b[49m\u001b[38;5;129;43;01min\u001b[39;49;00m\u001b[43m \u001b[49m\u001b[43mprev_layer\u001b[49m\u001b[43m]\u001b[49m\u001b[43m,\u001b[49m\u001b[43m \u001b[49m\u001b[43m)\u001b[49m\u001b[43m \u001b[49m\u001b[38;5;241;43m+\u001b[39;49m\u001b[43m \u001b[49m\u001b[43my\u001b[49m\u001b[43m \u001b[49m\u001b[38;5;28;43;01mfor\u001b[39;49;00m\u001b[43m \u001b[49m\u001b[43my\u001b[49m\u001b[43m \u001b[49m\u001b[38;5;129;43;01min\u001b[39;49;00m\u001b[43m \u001b[49m\u001b[43mnext_layer\u001b[49m\u001b[43m]\u001b[49m\u001b[43m)\u001b[49m\n\u001b[1;32m    228\u001b[0m \u001b[38;5;28mprint\u001b[39m(switch_layer)\n\u001b[1;32m    230\u001b[0m prev_layer \u001b[38;5;241m=\u001b[39m switch_layer\n",
      "File \u001b[0;32m~/miniconda3/envs/odd/lib/python3.10/multiprocessing/pool.py:375\u001b[0m, in \u001b[0;36mPool.starmap\u001b[0;34m(self, func, iterable, chunksize)\u001b[0m\n\u001b[1;32m    369\u001b[0m \u001b[38;5;28;01mdef\u001b[39;00m \u001b[38;5;21mstarmap\u001b[39m(\u001b[38;5;28mself\u001b[39m, func, iterable, chunksize\u001b[38;5;241m=\u001b[39m\u001b[38;5;28;01mNone\u001b[39;00m):\n\u001b[1;32m    370\u001b[0m \u001b[38;5;250m    \u001b[39m\u001b[38;5;124;03m'''\u001b[39;00m\n\u001b[1;32m    371\u001b[0m \u001b[38;5;124;03m    Like `map()` method but the elements of the `iterable` are expected to\u001b[39;00m\n\u001b[1;32m    372\u001b[0m \u001b[38;5;124;03m    be iterables as well and will be unpacked as arguments. Hence\u001b[39;00m\n\u001b[1;32m    373\u001b[0m \u001b[38;5;124;03m    `func` and (a, b) becomes func(a, b).\u001b[39;00m\n\u001b[1;32m    374\u001b[0m \u001b[38;5;124;03m    '''\u001b[39;00m\n\u001b[0;32m--> 375\u001b[0m     \u001b[38;5;28;01mreturn\u001b[39;00m \u001b[38;5;28;43mself\u001b[39;49m\u001b[38;5;241;43m.\u001b[39;49m\u001b[43m_map_async\u001b[49m\u001b[43m(\u001b[49m\u001b[43mfunc\u001b[49m\u001b[43m,\u001b[49m\u001b[43m \u001b[49m\u001b[43miterable\u001b[49m\u001b[43m,\u001b[49m\u001b[43m \u001b[49m\u001b[43mstarmapstar\u001b[49m\u001b[43m,\u001b[49m\u001b[43m \u001b[49m\u001b[43mchunksize\u001b[49m\u001b[43m)\u001b[49m\u001b[38;5;241;43m.\u001b[39;49m\u001b[43mget\u001b[49m\u001b[43m(\u001b[49m\u001b[43m)\u001b[49m\n",
      "File \u001b[0;32m~/miniconda3/envs/odd/lib/python3.10/multiprocessing/pool.py:774\u001b[0m, in \u001b[0;36mApplyResult.get\u001b[0;34m(self, timeout)\u001b[0m\n\u001b[1;32m    772\u001b[0m     \u001b[38;5;28;01mreturn\u001b[39;00m \u001b[38;5;28mself\u001b[39m\u001b[38;5;241m.\u001b[39m_value\n\u001b[1;32m    773\u001b[0m \u001b[38;5;28;01melse\u001b[39;00m:\n\u001b[0;32m--> 774\u001b[0m     \u001b[38;5;28;01mraise\u001b[39;00m \u001b[38;5;28mself\u001b[39m\u001b[38;5;241m.\u001b[39m_value\n",
      "\u001b[0;31mAttributeError\u001b[0m: 'NoneType' object has no attribute 'root'"
     ]
    }
   ],
   "source": [
    "def layers2nn(layers):\n",
    "    a = []    \n",
    "    for x, y in zip(layers[:-1], layers[1:]):\n",
    "        a.append(nn.Linear(x, y))\n",
    "        a.append(StepActivation())\n",
    "    return nn.Sequential(*a)\n",
    "\n",
    "# TODO test limit case\n",
    "TEST = True\n",
    "\n",
    "def test_odd_build(n_weights):\n",
    "    neuron = nn.Linear(n_weights,1)\n",
    "\n",
    "    odd_test = ODD()\n",
    "    odd_test.build_odd_rec(neuron.weight[0], -neuron.bias[0])\n",
    "    for p in itertools.product([0, 1],repeat=n_weights):\n",
    "        s = 0\n",
    "        for w, e in zip(neuron.weight[0], p):\n",
    "            s+=w*e\n",
    "        eval_sum = s + neuron.bias[0] >= 0\n",
    "        eval_odd = bool(odd_test.root.eda_expr.restrict({k: v for k,v in zip(odd_test.eda_vars,p)}))\n",
    "        assert(eval_odd == eval_sum)\n",
    "    del odd_test\n",
    "\n",
    "def test_combine_odd(layers):\n",
    "    net = layers2nn(layers)\n",
    "    bdd, bdd_vars = compile_nn(net)\n",
    "    # try:\n",
    "    for p in itertools.product([0, 1],repeat=len(bdd_vars)):\n",
    "        eval_bdd = bdd.restrict({k: v for k,v in zip(bdd_vars,p)})\n",
    "        eval_bdd = bool(eval_bdd)\n",
    "        eval_net = bool(net.forward(torch.Tensor(p)))\n",
    "        assert(eval_bdd == eval_net)\n",
    "    # except AssertionError:\n",
    "    #     print(bdd, bdd_vars)\n",
    "    #     print(p, \"| bdd\", eval_bdd, \"| net\", eval_net)\n",
    "    #     params = list(net.parameters())\n",
    "    #     odds = layers2odds(zip(params[::2], params[1::2]))\n",
    "    #     print(params)\n",
    "    #     display(Source(bdd.to_dot()))\n",
    "    #     for x in odds:\n",
    "    #         print(\"_\"*30)\n",
    "    #         for odd in x:\n",
    "    #             display(Source(odd.bdd.to_dot()))\n",
    "    #     return True\n",
    "\n",
    "if TEST:\n",
    "    # for n_weights in trange(1, 11): \n",
    "    #     for _ in range(100):\n",
    "    #         test_odd_build(n_weights)\n",
    "    \n",
    "    for _ in trange(1000):\n",
    "        if test_combine_odd([5,5,5,5,1]):\n",
    "            break"
   ]
  },
  {
   "cell_type": "markdown",
   "metadata": {},
   "source": [
    "## Main"
   ]
  },
  {
   "cell_type": "code",
   "execution_count": null,
   "metadata": {},
   "outputs": [
    {
     "name": "stdout",
     "output_type": "stream",
     "text": [
      "converting to ODDs : DONE (1.31e-01)\n",
      "combining ODDs     : DONE (8.11e-06)\n"
     ]
    },
    {
     "ename": "TypeError",
     "evalue": "cannot unpack non-iterable BinaryDecisionDiagram object",
     "output_type": "error",
     "traceback": [
      "\u001b[0;31m---------------------------------------------------------------------------\u001b[0m",
      "\u001b[0;31mTypeError\u001b[0m                                 Traceback (most recent call last)",
      "Cell \u001b[0;32mIn[3], line 4\u001b[0m\n\u001b[1;32m      1\u001b[0m layers_nn \u001b[38;5;241m=\u001b[39m [\u001b[38;5;241m15\u001b[39m,\u001b[38;5;241m1\u001b[39m]\n\u001b[1;32m      3\u001b[0m net \u001b[38;5;241m=\u001b[39m layers2nn(layers_nn)\n\u001b[0;32m----> 4\u001b[0m bdd, bdd_vars \u001b[38;5;241m=\u001b[39m compile_nn(net, verbose\u001b[38;5;241m=\u001b[39m\u001b[38;5;28;01mTrue\u001b[39;00m)\n\u001b[1;32m      5\u001b[0m \u001b[38;5;28;01mif\u001b[39;00m layers_nn[\u001b[38;5;241m0\u001b[39m] \u001b[38;5;241m<\u001b[39m \u001b[38;5;241m10\u001b[39m:\n\u001b[1;32m      6\u001b[0m     display(Source(bdd\u001b[38;5;241m.\u001b[39mto_dot()))\n",
      "\u001b[0;31mTypeError\u001b[0m: cannot unpack non-iterable BinaryDecisionDiagram object"
     ]
    }
   ],
   "source": [
    "layers_nn = [15,1]\n",
    "\n",
    "net = layers2nn(layers_nn)\n",
    "bdd = compile_nn(net, verbose=True)\n",
    "if layers_nn[0] < 10:\n",
    "    display(Source(bdd.to_dot()))"
   ]
  },
  {
   "cell_type": "markdown",
   "metadata": {},
   "source": [
    "## Approx BDD"
   ]
  },
  {
   "cell_type": "markdown",
   "metadata": {},
   "source": [
    "### General case"
   ]
  },
  {
   "cell_type": "code",
   "execution_count": null,
   "metadata": {},
   "outputs": [
    {
     "name": "stdout",
     "output_type": "stream",
     "text": [
      "428\n",
      "432\n"
     ]
    }
   ],
   "source": [
    "def l(cmax, node):\n",
    "    return node.root if node.root > 0 else cmax+1\n",
    "\n",
    "memo_zp = dict()\n",
    "def zp(node, label):\n",
    "    a = memo_zp.get(node)\n",
    "    if a:\n",
    "        return a.get(label)\n",
    "    return None\n",
    "\n",
    "# pre compute zp by bottom-up algorithm\n",
    "def compute_zp(bdd, c):\n",
    "    for x in bdd.dfs_postorder():\n",
    "        if x.root < 0: # if leaf (0/1)\n",
    "            memo_zp[x] = {c: x}\n",
    "            continue\n",
    "        memo_zp[x] = {**memo_zp[x.lo], l(c, x): x}\n",
    "\n",
    "def init_find_incl(bdd, c):\n",
    "    R = []\n",
    "    nodes = {k:[] for k in range(1,c+2)}\n",
    "    for x in bdd.dfs_preorder():\n",
    "        R.append((x,x))\n",
    "        if x.root > 0:\n",
    "            nodes[x.root].append(x)\n",
    "        else:\n",
    "            nodes[c+1].append(x)\n",
    "    R.append((nodes[c+1][0], nodes[c+1][1]) if nodes[c+1][0] == -2 else (nodes[c+1][1], nodes[c+1][0]))\n",
    "\n",
    "    return nodes, R\n",
    "\n",
    "def find_incl(bdd, c):\n",
    "    nodes, R = init_find_incl(bdd, c)\n",
    "    print(len(R))\n",
    "    for k in range(c, 0, -1):\n",
    "        for u,v in itertools.combinations(nodes[k], 2):\n",
    "            if (u.lo, zp(v.lo, l(c, u.lo))) in R and (u.hi, zp(v.hi, l(c, u.hi))) in R:\n",
    "                R.append((u,v))\n",
    "            if (v.lo, zp(u.lo, l(c, v.lo))) in R and (v.hi, zp(u.hi, l(c, v.hi))) in R:\n",
    "                R.append((v, u))\n",
    "\n",
    "    print(len(R)) \n",
    "\n",
    "compute_zp(bdd, len(bdd_vars))\n",
    "find_incl(bdd,len(bdd_vars))"
   ]
  },
  {
   "cell_type": "markdown",
   "metadata": {},
   "source": [
    "### Monotone"
   ]
  },
  {
   "cell_type": "code",
   "execution_count": null,
   "metadata": {},
   "outputs": [
    {
     "ename": "KeyError",
     "evalue": "<pyeda.boolalg.bdd.BDDNode object at 0x7f40318cfc10>",
     "output_type": "error",
     "traceback": [
      "\u001b[0;31m---------------------------------------------------------------------------\u001b[0m",
      "\u001b[0;31mKeyError\u001b[0m                                  Traceback (most recent call last)",
      "Cell \u001b[0;32mIn[58], line 73\u001b[0m\n\u001b[1;32m     71\u001b[0m compute_F(bdd_mono)\n\u001b[1;32m     72\u001b[0m compute_zp(bdd_mono, \u001b[38;5;28mlen\u001b[39m(bdd_vars_mono))\n\u001b[0;32m---> 73\u001b[0m \u001b[43mfind_incl_mono\u001b[49m\u001b[43m(\u001b[49m\u001b[43mbdd_mono\u001b[49m\u001b[43m,\u001b[49m\u001b[43m \u001b[49m\u001b[38;5;28;43mlen\u001b[39;49m\u001b[43m(\u001b[49m\u001b[43mbdd_vars_mono\u001b[49m\u001b[43m)\u001b[49m\u001b[43m)\u001b[49m\n",
      "Cell \u001b[0;32mIn[58], line 48\u001b[0m, in \u001b[0;36mfind_incl_mono\u001b[0;34m(bdd, c)\u001b[0m\n\u001b[1;32m     46\u001b[0m zp_q \u001b[38;5;241m=\u001b[39m zp(q, l(c, u))\n\u001b[1;32m     47\u001b[0m \u001b[38;5;28;01mwhile\u001b[39;00m u \u001b[38;5;129;01mis\u001b[39;00m zp_q:\n\u001b[0;32m---> 48\u001b[0m     q \u001b[38;5;241m=\u001b[39m \u001b[43msup\u001b[49m\u001b[43m[\u001b[49m\u001b[43mq\u001b[49m\u001b[43m]\u001b[49m\n\u001b[1;32m     49\u001b[0m     zp_q \u001b[38;5;241m=\u001b[39m zp(q, l(c, u))\n\u001b[1;32m     51\u001b[0m candidates\u001b[38;5;241m.\u001b[39madd(zp_q) \u001b[38;5;66;03m# zp can return None\u001b[39;00m\n",
      "\u001b[0;31mKeyError\u001b[0m: <pyeda.boolalg.bdd.BDDNode object at 0x7f40318cfc10>"
     ]
    }
   ],
   "source": [
    "layers_nn_mono = [15, 1]\n",
    "\n",
    "while True:\n",
    "    net_mono = layers2nn(layers_nn_mono)\n",
    "    for i, params in enumerate(net_mono.parameters()):\n",
    "        if i%2==0:\n",
    "            params.data = abs(params.data)\n",
    "        else:\n",
    "            params.data = -10 * abs(params.data)\n",
    "\n",
    "    bdd_mono, bdd_vars_mono = compile_nn(net_mono)\n",
    "    if not bdd_mono.is_one() and not bdd_mono.is_zero():\n",
    "        break\n",
    "\n",
    "memo_F = dict()\n",
    "def compute_F(bdd): # ZDD algo -> adapt to BDD (?)\n",
    "    for x in bdd.dfs_postorder():\n",
    "        if x.root > 0:\n",
    "            memo_F[x] = {frozenset(S | {x.root}) for S in memo_F[x.hi]} | memo_F[x.lo]\n",
    "        elif x.root == -2: # case True\n",
    "            memo_F[x] = {frozenset()}\n",
    "        elif x.root == -1: # case False\n",
    "            memo_F[x] = set()\n",
    "\n",
    "def F(v):\n",
    "    return memo_F[v]\n",
    "\n",
    "def argmin(d):\n",
    "    return min(d, key=d.get)\n",
    "\n",
    "def find_incl_mono(bdd, c):\n",
    "    special_nodes = set(memo_zp[bdd.node].values()) # nodes reached by 0-edge from the root\n",
    "    nodes, _ = init_find_incl(bdd, c)\n",
    "    nodes[0] = dict() # simplify code for P0 and P1 computation\n",
    "    \n",
    "    sup = dict() # init ??\n",
    "\n",
    "    for k in range(1, c+1):\n",
    "        for u in set(nodes[k]) - special_nodes:\n",
    "            candidates = set()\n",
    "            P0 = {v for v in nodes[k-1] if v.lo is u}\n",
    "            P1 = {v for v in nodes[k-1] if v.hi is u}\n",
    "\n",
    "            for p in P0 | P1:\n",
    "                q = p\n",
    "                zp_q = zp(q, l(c, u))\n",
    "                while u is zp_q:\n",
    "                    q = sup[q]\n",
    "                    zp_q = zp(q, l(c, u))\n",
    "                \n",
    "                candidates.add(zp_q) # zp can return None\n",
    "                if zp_q is None:\n",
    "                    sys.exit(\"zp_q is None\")\n",
    "\n",
    "            for p in P1:\n",
    "                q = p\n",
    "                zp_q1 = zp(q.hi, l(c, u))\n",
    "                # print(zp_q1, q.hi.root, l(c,u), sup)\n",
    "                while u is zp_q1  and q not in special_nodes:\n",
    "                    q = sup[q]\n",
    "                    zp_q1 = zp(q.hi, l(c, u))\n",
    "                if u is not zp_q1:\n",
    "                    candidates.add(zp_q1) # zp_q1 can be None\n",
    "            \n",
    "            if candidates: \n",
    "                sup[u] = argmin({v: len(F(v)) for v in candidates}) # KeyError if None in candidates\n",
    "            \n",
    "    print(sup)\n",
    "\n",
    "memo_zp.clear()\n",
    "compute_F(bdd_mono)\n",
    "compute_zp(bdd_mono, len(bdd_vars_mono))\n",
    "find_incl_mono(bdd_mono, len(bdd_vars_mono))"
   ]
  }
 ],
 "metadata": {
  "kernelspec": {
   "display_name": "Python 3",
   "language": "python",
   "name": "python3"
  },
  "language_info": {
   "codemirror_mode": {
    "name": "ipython",
    "version": 3
   },
   "file_extension": ".py",
   "mimetype": "text/x-python",
   "name": "python",
   "nbconvert_exporter": "python",
   "pygments_lexer": "ipython3",
   "version": "3.10.9"
  }
 },
 "nbformat": 4,
 "nbformat_minor": 2
}
