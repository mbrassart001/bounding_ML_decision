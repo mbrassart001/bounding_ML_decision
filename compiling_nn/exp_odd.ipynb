{
 "cells": [
  {
   "cell_type": "code",
   "execution_count": 1,
   "metadata": {},
   "outputs": [],
   "source": [
    "import time\n",
    "import random\n",
    "import signal\n",
    "import math\n",
    "import matplotlib.pyplot as plt\n",
    "from graphviz import Digraph\n",
    "from IPython.display import SVG\n",
    "\n",
    "infty = float('inf')"
   ]
  },
  {
   "cell_type": "markdown",
   "metadata": {},
   "source": [
    "## Utilities\n",
    "### Decorators"
   ]
  },
  {
   "cell_type": "code",
   "execution_count": 2,
   "metadata": {},
   "outputs": [],
   "source": [
    "def handler(sig, frame):\n",
    "    raise Exception(\"Function takes too much time\")\n",
    "\n",
    "def timelimit(maxtime=100):\n",
    "    def inner(func):\n",
    "        def wrapper(*args, **kwargs):\n",
    "            signal.signal(signal.SIGALRM, handler)\n",
    "            signal.alarm(maxtime)\n",
    "            try:\n",
    "                res = func(*args, **kwargs)\n",
    "            except Exception as exc:\n",
    "                print(exc)\n",
    "            else:\n",
    "                signal.alarm(-1)\n",
    "                return res\n",
    "        return wrapper\n",
    "    return inner\n",
    "\n",
    "def timecounter(message=None):\n",
    "    def inner(func):\n",
    "        def wrapper(*args, **kwargs):\n",
    "            start = time.time()\n",
    "            res = func(*args, **kwargs)\n",
    "            deltatime = (time.time() - start)*1000\n",
    "            if message:\n",
    "                try:\n",
    "                    print(message.format(deltatime))\n",
    "                except Exception:\n",
    "                    print(f\"Done in {deltatime}ms\")\n",
    "            elif message == False:\n",
    "                return res, deltatime\n",
    "            else:\n",
    "                print(f\"Done in {deltatime}ms\")\n",
    "            return res\n",
    "        return wrapper\n",
    "    return inner\n",
    "\n",
    "def add_weights_svg(svg, weights):\n",
    "    res_svg = svg.rsplit(\"\\n\", 3)[0]\n",
    "    sep = 'pt\" height=\"'\n",
    "    a, b = res_svg.split(sep, 1)\n",
    "    width = int(a[-3:])\n",
    "    height = int(b[:3])\n",
    "    h = height/len(weights)\n",
    "    w_svg = \"\\n\" + \"\\n\".join([f\"\"\"<text text-anchor=\"middle\" x=\"{width+20}\" y=\"{-h*(i+.5)}\" font-family=\"Times,serif\" font-size=\"14.00\">{x:.2f}</text>\"\"\"for i, x in enumerate(weights[::-1])])\n",
    "    w_svg+=\"\"\"\\n</g>\\n</svg>\"\"\"\n",
    "\n",
    "    a = f\"{a[:-3]}{width+100}\"\n",
    "    res_svg = a + sep + b + w_svg\n",
    "\n",
    "    return res_svg"
   ]
  },
  {
   "cell_type": "markdown",
   "metadata": {},
   "source": [
    "### Cache related functions"
   ]
  },
  {
   "cell_type": "code",
   "execution_count": 3,
   "metadata": {},
   "outputs": [],
   "source": [
    "cache = dict()\n",
    "\n",
    "def reset_cache():\n",
    "    cache.clear()\n",
    "\n",
    "def store_in_cache(k, node):\n",
    "    if cache.get(k):\n",
    "        cache[k].append(node)\n",
    "    else:\n",
    "        cache.update({k: [node]})\n",
    "\n",
    "def find_in_cache(k, value):\n",
    "    cache_line = cache.get(k)\n",
    "    if cache_line:\n",
    "        for node in cache_line:\n",
    "            if value in node.interval:\n",
    "                return node\n",
    "    return None\n",
    "\n",
    "def cache_total_node_count():\n",
    "    node_count = 0\n",
    "    for x in cache.values():\n",
    "        node_count+=x.__len__()\n",
    "    return node_count"
   ]
  },
  {
   "cell_type": "markdown",
   "metadata": {},
   "source": [
    "### Draw graph"
   ]
  },
  {
   "cell_type": "code",
   "execution_count": 4,
   "metadata": {},
   "outputs": [],
   "source": [
    "def make_graph_from_cache(name=None):\n",
    "    dot = Digraph()\n",
    "    for cache_line in cache.values():\n",
    "        for node in cache_line:\n",
    "            dot.node(node.id, f\"{node.interval:.2f}\")\n",
    "            for e, child in node.child.items():\n",
    "                dot.edge(node.id, child.id, str(e))\n",
    "\n",
    "    if name:\n",
    "        dot.render(filename=f\"odd/{name}\")\n",
    "    return dot._repr_image_svg_xml()"
   ]
  },
  {
   "cell_type": "markdown",
   "metadata": {},
   "source": [
    "## Class implementation"
   ]
  },
  {
   "cell_type": "code",
   "execution_count": 5,
   "metadata": {},
   "outputs": [],
   "source": [
    "class Node:\n",
    "    def __init__(self, interval=None, name=None):\n",
    "        self.child = dict()\n",
    "        self.parent = dict()\n",
    "        self.interval = interval\n",
    "        self.name = name\n",
    "        self.id = f\"n{id(self)}\"\n",
    "\n",
    "    def __str__(self):\n",
    "        return f\"{self.child.__len__()} children | {self.parent.__len__()} parents | {self.interval:.2f}\"\n",
    "    \n",
    "    def add_child(self, other, label):\n",
    "        self.child.update({label: other})\n",
    "        other.parent.update({label: self})\n",
    "\n",
    "class Interval:\n",
    "    def __init__(self, low, high, closed_left=True, closed_right=True):\n",
    "        self.low = low\n",
    "        self.high = high\n",
    "        self.left = closed_left\n",
    "        self.right = closed_right\n",
    "    \n",
    "    def __str__(self):\n",
    "        left = \"[\" if self.left else \"(\"\n",
    "        right = \"]\" if self.right else \")\"\n",
    "        return f\"{left}{self.low}; {self.high}{right}\"\n",
    "\n",
    "    def __format__(self, __format_spec):\n",
    "        left = \"[\" if self.left else \"(\"\n",
    "        right = \"]\" if self.right else \")\"\n",
    "        if __format_spec:\n",
    "            return f\"{left}{self.low:{__format_spec}}; {self.high:{__format_spec}}{right}\"\n",
    "        else:\n",
    "            return f\"{left}{self.low}; {self.high}{right}\"\n",
    "\n",
    "    def __add__(self, value):\n",
    "        return Interval(self.low + value, self.high + value, self.left, self.right)\n",
    "\n",
    "    def __sub__(self, value):\n",
    "        return Interval(self.low - value, self.high - value, self.left, self.right)\n",
    "\n",
    "    def __contains__(self, value):\n",
    "        down = value >= self.low if self.left else value > self.low\n",
    "        up = value <= self.high if self.right else value < self.high\n",
    "        return down & up\n",
    "    \n",
    "    def intersect(self, other):\n",
    "        if self.low < other.low:\n",
    "            self.low = other.low\n",
    "            self.left = other.left\n",
    "        elif self.low == other.low:\n",
    "            self.left &= other.left\n",
    "        \n",
    "        if self.high > other.high:\n",
    "            self.high = other.high\n",
    "            self.right = other.right\n",
    "        elif self.high == other.high:\n",
    "            self.right &= other.right\n",
    "\n",
    "        return self"
   ]
  },
  {
   "cell_type": "markdown",
   "metadata": {},
   "source": [
    "## Build ODD"
   ]
  },
  {
   "cell_type": "code",
   "execution_count": 6,
   "metadata": {},
   "outputs": [],
   "source": [
    "@timecounter(message=False)\n",
    "def timed_build_odd_rec(weights_list, threshold):\n",
    "    return _build_odd_rec(weights_list, threshold)\n",
    "\n",
    "@timecounter(message=\"Built recursively in {:.2f}ms\")\n",
    "def build_odd_rec(weights_list, threshold):\n",
    "    return _build_odd_rec(weights_list, threshold)\n",
    "\n",
    "@timelimit(600)\n",
    "def _build_odd_rec(weights_list, threshold):\n",
    "    n = len(weights_list)\n",
    "    one_sink = Node(Interval(threshold, infty, closed_right=False))\n",
    "    store_in_cache(n, one_sink)\n",
    "    zero_sink = Node(Interval(-infty, threshold, closed_left=False, closed_right=False))\n",
    "    store_in_cache(n, zero_sink)\n",
    "    return build_sub_odd_rec(weights_list, 0, 0)\n",
    "\n",
    "def build_sub_odd_rec(weights, k, v):\n",
    "    node = Node(Interval(-infty, infty, closed_left=False, closed_right=False))\n",
    "    weight = weights[k]\n",
    "    for e in {0, 1}:\n",
    "        w = e*weight\n",
    "        v_child = v + w\n",
    "        child = find_in_cache(k+1, v_child)\n",
    "        if child is None:\n",
    "            child = build_sub_odd_rec(weights, k+1, v_child)\n",
    "        node.add_child(child, e)\n",
    "        node.interval.intersect(child.interval-w)\n",
    "    store_in_cache(k, node)\n",
    "    return node"
   ]
  },
  {
   "cell_type": "markdown",
   "metadata": {},
   "source": [
    "## Main"
   ]
  },
  {
   "cell_type": "code",
   "execution_count": 7,
   "metadata": {},
   "outputs": [
    {
     "name": "stdout",
     "output_type": "stream",
     "text": [
      "Built recursively in 0.09ms\n"
     ]
    },
    {
     "data": {
      "image/svg+xml": [
       "<svg xmlns=\"http://www.w3.org/2000/svg\" xmlns:xlink=\"http://www.w3.org/1999/xlink\" width=\"393pt\" height=\"305pt\" viewBox=\"0.00 0.00 293.09 305.00\">\n",
       "<g id=\"graph0\" class=\"graph\" transform=\"scale(1 1) rotate(0) translate(4 301)\">\n",
       "<title>%3</title>\n",
       "<polygon fill=\"white\" stroke=\"transparent\" points=\"-4,4 -4,-301 289.09,-301 289.09,4 -4,4\"/>\n",
       "<!-- n138899874326576 -->\n",
       "<g id=\"node1\" class=\"node\">\n",
       "<title>n138899874326576</title>\n",
       "<ellipse fill=\"none\" stroke=\"black\" cx=\"70.9\" cy=\"-18\" rx=\"55.79\" ry=\"18\"/>\n",
       "<text text-anchor=\"middle\" x=\"70.9\" y=\"-14.3\" font-family=\"Times,serif\" font-size=\"14.00\">[0.00; inf)</text>\n",
       "</g>\n",
       "<!-- n138899874317744 -->\n",
       "<g id=\"node2\" class=\"node\">\n",
       "<title>n138899874317744</title>\n",
       "<ellipse fill=\"none\" stroke=\"black\" cx=\"203.9\" cy=\"-18\" rx=\"59.29\" ry=\"18\"/>\n",
       "<text text-anchor=\"middle\" x=\"203.9\" y=\"-14.3\" font-family=\"Times,serif\" font-size=\"14.00\">(-inf; 0.00)</text>\n",
       "</g>\n",
       "<!-- n138899874327776 -->\n",
       "<g id=\"node3\" class=\"node\">\n",
       "<title>n138899874327776</title>\n",
       "<ellipse fill=\"none\" stroke=\"black\" cx=\"55.9\" cy=\"-105\" rx=\"55.79\" ry=\"18\"/>\n",
       "<text text-anchor=\"middle\" x=\"55.9\" y=\"-101.3\" font-family=\"Times,serif\" font-size=\"14.00\">[0.00; inf)</text>\n",
       "</g>\n",
       "<!-- n138899874327776&#45;&gt;n138899874326576 -->\n",
       "<g id=\"edge1\" class=\"edge\">\n",
       "<title>n138899874327776-&gt;n138899874326576</title>\n",
       "<path fill=\"none\" stroke=\"black\" d=\"M47.72,-87.1C44.07,-77.3 41.32,-64.8 44.9,-54 46.02,-50.59 47.63,-47.24 49.49,-44.05\"/>\n",
       "<polygon fill=\"black\" stroke=\"black\" points=\"52.54,-45.79 55.25,-35.55 46.74,-41.86 52.54,-45.79\"/>\n",
       "<text text-anchor=\"middle\" x=\"49.9\" y=\"-57.8\" font-family=\"Times,serif\" font-size=\"14.00\">0</text>\n",
       "</g>\n",
       "<!-- n138899874327776&#45;&gt;n138899874326576 -->\n",
       "<g id=\"edge2\" class=\"edge\">\n",
       "<title>n138899874327776-&gt;n138899874326576</title>\n",
       "<path fill=\"none\" stroke=\"black\" d=\"M58.93,-86.8C60.98,-75.16 63.74,-59.55 66.09,-46.24\"/>\n",
       "<polygon fill=\"black\" stroke=\"black\" points=\"69.57,-46.63 67.86,-36.18 62.68,-45.41 69.57,-46.63\"/>\n",
       "<text text-anchor=\"middle\" x=\"69.9\" y=\"-57.8\" font-family=\"Times,serif\" font-size=\"14.00\">1</text>\n",
       "</g>\n",
       "<!-- n138899874328016 -->\n",
       "<g id=\"node4\" class=\"node\">\n",
       "<title>n138899874328016</title>\n",
       "<ellipse fill=\"none\" stroke=\"black\" cx=\"197.9\" cy=\"-105\" rx=\"67.69\" ry=\"18\"/>\n",
       "<text text-anchor=\"middle\" x=\"197.9\" y=\"-101.3\" font-family=\"Times,serif\" font-size=\"14.00\">[-3.00; 0.00)</text>\n",
       "</g>\n",
       "<!-- n138899874328016&#45;&gt;n138899874326576 -->\n",
       "<g id=\"edge4\" class=\"edge\">\n",
       "<title>n138899874328016-&gt;n138899874326576</title>\n",
       "<path fill=\"none\" stroke=\"black\" d=\"M174.01,-88.01C153.84,-74.51 124.78,-55.07 102.66,-40.26\"/>\n",
       "<polygon fill=\"black\" stroke=\"black\" points=\"104.5,-37.28 94.25,-34.63 100.61,-43.1 104.5,-37.28\"/>\n",
       "<text text-anchor=\"middle\" x=\"146.9\" y=\"-57.8\" font-family=\"Times,serif\" font-size=\"14.00\">1</text>\n",
       "</g>\n",
       "<!-- n138899874328016&#45;&gt;n138899874317744 -->\n",
       "<g id=\"edge3\" class=\"edge\">\n",
       "<title>n138899874328016-&gt;n138899874317744</title>\n",
       "<path fill=\"none\" stroke=\"black\" d=\"M199.11,-86.8C199.93,-75.16 201.03,-59.55 201.97,-46.24\"/>\n",
       "<polygon fill=\"black\" stroke=\"black\" points=\"205.47,-46.4 202.68,-36.18 198.49,-45.9 205.47,-46.4\"/>\n",
       "<text text-anchor=\"middle\" x=\"205.9\" y=\"-57.8\" font-family=\"Times,serif\" font-size=\"14.00\">0</text>\n",
       "</g>\n",
       "<!-- n138899874318848 -->\n",
       "<g id=\"node5\" class=\"node\">\n",
       "<title>n138899874318848</title>\n",
       "<ellipse fill=\"none\" stroke=\"black\" cx=\"70.9\" cy=\"-192\" rx=\"55.79\" ry=\"18\"/>\n",
       "<text text-anchor=\"middle\" x=\"70.9\" y=\"-188.3\" font-family=\"Times,serif\" font-size=\"14.00\">[0.00; inf)</text>\n",
       "</g>\n",
       "<!-- n138899874318848&#45;&gt;n138899874327776 -->\n",
       "<g id=\"edge5\" class=\"edge\">\n",
       "<title>n138899874318848-&gt;n138899874327776</title>\n",
       "<path fill=\"none\" stroke=\"black\" d=\"M61.98,-174C59.5,-168.42 57.14,-162.09 55.9,-156 54.42,-148.8 53.92,-140.9 53.91,-133.54\"/>\n",
       "<polygon fill=\"black\" stroke=\"black\" points=\"57.41,-133.39 54.19,-123.3 50.42,-133.2 57.41,-133.39\"/>\n",
       "<text text-anchor=\"middle\" x=\"60.9\" y=\"-144.8\" font-family=\"Times,serif\" font-size=\"14.00\">0</text>\n",
       "</g>\n",
       "<!-- n138899874318848&#45;&gt;n138899874327776 -->\n",
       "<g id=\"edge6\" class=\"edge\">\n",
       "<title>n138899874318848-&gt;n138899874327776</title>\n",
       "<path fill=\"none\" stroke=\"black\" d=\"M69.93,-173.77C69.2,-164.08 67.96,-151.8 65.9,-141 65.38,-138.3 64.75,-135.51 64.06,-132.73\"/>\n",
       "<polygon fill=\"black\" stroke=\"black\" points=\"67.4,-131.67 61.4,-122.94 60.64,-133.51 67.4,-131.67\"/>\n",
       "<text text-anchor=\"middle\" x=\"73.9\" y=\"-144.8\" font-family=\"Times,serif\" font-size=\"14.00\">1</text>\n",
       "</g>\n",
       "<!-- n138899874320480 -->\n",
       "<g id=\"node6\" class=\"node\">\n",
       "<title>n138899874320480</title>\n",
       "<ellipse fill=\"none\" stroke=\"black\" cx=\"214.9\" cy=\"-192\" rx=\"70.39\" ry=\"18\"/>\n",
       "<text text-anchor=\"middle\" x=\"214.9\" y=\"-188.3\" font-family=\"Times,serif\" font-size=\"14.00\">[-3.00; -1.00)</text>\n",
       "</g>\n",
       "<!-- n138899874320480&#45;&gt;n138899874328016 -->\n",
       "<g id=\"edge7\" class=\"edge\">\n",
       "<title>n138899874320480-&gt;n138899874328016</title>\n",
       "<path fill=\"none\" stroke=\"black\" d=\"M200.44,-174.28C196.57,-168.82 192.9,-162.47 190.9,-156 188.61,-148.63 188.73,-140.42 189.86,-132.82\"/>\n",
       "<polygon fill=\"black\" stroke=\"black\" points=\"193.3,-133.47 191.9,-122.96 186.44,-132.04 193.3,-133.47\"/>\n",
       "<text text-anchor=\"middle\" x=\"195.9\" y=\"-144.8\" font-family=\"Times,serif\" font-size=\"14.00\">0</text>\n",
       "</g>\n",
       "<!-- n138899874320480&#45;&gt;n138899874328016 -->\n",
       "<g id=\"edge8\" class=\"edge\">\n",
       "<title>n138899874320480-&gt;n138899874328016</title>\n",
       "<path fill=\"none\" stroke=\"black\" d=\"M211.45,-173.8C209.13,-162.16 206,-146.55 203.34,-133.24\"/>\n",
       "<polygon fill=\"black\" stroke=\"black\" points=\"206.72,-132.29 201.33,-123.18 199.86,-133.67 206.72,-132.29\"/>\n",
       "<text text-anchor=\"middle\" x=\"211.9\" y=\"-144.8\" font-family=\"Times,serif\" font-size=\"14.00\">1</text>\n",
       "</g>\n",
       "<!-- n138899874318992 -->\n",
       "<g id=\"node7\" class=\"node\">\n",
       "<title>n138899874318992</title>\n",
       "<ellipse fill=\"none\" stroke=\"black\" cx=\"141.9\" cy=\"-279\" rx=\"64.19\" ry=\"18\"/>\n",
       "<text text-anchor=\"middle\" x=\"141.9\" y=\"-275.3\" font-family=\"Times,serif\" font-size=\"14.00\">[0.00; 1.00)</text>\n",
       "</g>\n",
       "<!-- n138899874318992&#45;&gt;n138899874318848 -->\n",
       "<g id=\"edge9\" class=\"edge\">\n",
       "<title>n138899874318992-&gt;n138899874318848</title>\n",
       "<path fill=\"none\" stroke=\"black\" d=\"M127.87,-261.21C117.4,-248.67 102.93,-231.35 91.19,-217.3\"/>\n",
       "<polygon fill=\"black\" stroke=\"black\" points=\"93.75,-214.9 84.65,-209.47 88.38,-219.39 93.75,-214.9\"/>\n",
       "<text text-anchor=\"middle\" x=\"114.9\" y=\"-231.8\" font-family=\"Times,serif\" font-size=\"14.00\">0</text>\n",
       "</g>\n",
       "<!-- n138899874318992&#45;&gt;n138899874320480 -->\n",
       "<g id=\"edge10\" class=\"edge\">\n",
       "<title>n138899874318992-&gt;n138899874320480</title>\n",
       "<path fill=\"none\" stroke=\"black\" d=\"M156.32,-261.21C167.02,-248.75 181.77,-231.57 193.79,-217.57\"/>\n",
       "<polygon fill=\"black\" stroke=\"black\" points=\"196.64,-219.63 200.5,-209.76 191.33,-215.06 196.64,-219.63\"/>\n",
       "<text text-anchor=\"middle\" x=\"186.9\" y=\"-231.8\" font-family=\"Times,serif\" font-size=\"14.00\">1</text>\n",
       "</g>\n",
       "<text text-anchor=\"middle\" x=\"313\" y=\"-50.833333333333336\" font-family=\"Times,serif\" font-size=\"14.00\">3.00</text>\n",
       "<text text-anchor=\"middle\" x=\"313\" y=\"-152.5\" font-family=\"Times,serif\" font-size=\"14.00\">1.00</text>\n",
       "<text text-anchor=\"middle\" x=\"313\" y=\"-254.16666666666669\" font-family=\"Times,serif\" font-size=\"14.00\">-2.00</text>\n",
       "</g>\n",
       "</svg>"
      ],
      "text/plain": [
       "<IPython.core.display.SVG object>"
      ]
     },
     "execution_count": 7,
     "metadata": {},
     "output_type": "execute_result"
    }
   ],
   "source": [
    "n_weights = 5\n",
    "weights = [(random.random()-.5)*5 for _ in range(n_weights)] # 27 in 10s / 30 ~ 1min\n",
    "weights = [-2, 1, 3]\n",
    "threshold = 0\n",
    "\n",
    "reset_cache()\n",
    "odd = build_odd_rec(weights, threshold)\n",
    "odd_svg = make_graph_from_cache()\n",
    "odd_svg = add_weights_svg(odd_svg, weights)\n",
    "SVG(odd_svg)"
   ]
  },
  {
   "cell_type": "markdown",
   "metadata": {},
   "source": [
    "## Experiences"
   ]
  },
  {
   "cell_type": "code",
   "execution_count": 8,
   "metadata": {},
   "outputs": [
    {
     "name": "stdout",
     "output_type": "stream",
     "text": [
      "28 4\r"
     ]
    }
   ],
   "source": [
    "t = 0\n",
    "n_it = 5\n",
    "test_range = list(range(2, 29))\n",
    "\n",
    "rand_time = {k: 0 for k in test_range}\n",
    "rand_node = {k: 0 for k in test_range}\n",
    "asc_time  = {k: 0 for k in test_range}\n",
    "asc_node  = {k: 0 for k in test_range}\n",
    "desc_time = {k: 0 for k in test_range}\n",
    "desc_node = {k: 0 for k in test_range}\n",
    "for n in test_range:\n",
    "    for i in range(n_it):\n",
    "        print(n, i, end=\"\\r\")\n",
    "        reset_cache()\n",
    "        weights = [(random.random()-.5)*5 for _ in range(n)]\n",
    "        odd, delta = timed_build_odd_rec(weights, t)\n",
    "        rand_time[n]+=delta\n",
    "        rand_node[n]+=cache_total_node_count()\n",
    "        reset_cache()\n",
    "        weights = sorted(weights)\n",
    "        odd, delta = timed_build_odd_rec(weights, t)\n",
    "        asc_time[n]+=delta\n",
    "        asc_node[n]+=cache_total_node_count()\n",
    "        reset_cache()\n",
    "        weights = weights[::-1]\n",
    "        odd, delta = timed_build_odd_rec(weights, t)\n",
    "        desc_time[n]+=delta\n",
    "        desc_node[n]+=cache_total_node_count()\n",
    "\n",
    "rand_time = {k: v/n_it for k, v in rand_time.items()}\n",
    "rand_node = {k: v/n_it for k, v in rand_node.items()}\n",
    "asc_time  = {k: v/n_it for k, v in asc_time.items()}\n",
    "asc_node  = {k: v/n_it for k, v in asc_node.items()}\n",
    "desc_time = {k: v/n_it for k, v in desc_time.items()}\n",
    "desc_node = {k: v/n_it for k, v in desc_node.items()}"
   ]
  },
  {
   "cell_type": "code",
   "execution_count": 9,
   "metadata": {},
   "outputs": [
    {
     "data": {
      "image/png": "[encoded data removed]",
      "text/plain": [
       "<Figure size 1000x450 with 2 Axes>"
      ]
     },
     "metadata": {},
     "output_type": "display_data"
    }
   ],
   "source": [
    "exp_curve = [math.exp(x) for x in test_range]\n",
    "exp_half_curve = [math.exp(x/2) for x in test_range]\n",
    "pow_curve = [2**x for x in test_range]\n",
    "pow_half_curve = [2**(x/2) for x in test_range]\n",
    "\n",
    "fig, axs = plt.subplots(1, 2, layout=\"constrained\", figsize=(10,4.5))\n",
    "ax0, ax1 = axs\n",
    "ax0.scatter(test_range, list(rand_time.values()), marker='.')\n",
    "# ax0.scatter(test_range, list(asc_time.values()), marker='.')\n",
    "# ax0.scatter(test_range, list(desc_time.values()), marker='.')\n",
    "k = 1e2\n",
    "# ax0.plot(test_range, [x/k for x in exp_curve])\n",
    "# ax0.plot(test_range, [x/k for x in exp_half_curve])\n",
    "# ax0.plot(test_range, [x/k for x in pow_curve])\n",
    "# ax0.plot(test_range, [x/k for x in pow_half_curve])\n",
    "ax0.set_yscale('log')\n",
    "ax0.grid()\n",
    "ax0.set_title(\"Average build time (ms)\")\n",
    "\n",
    "ax1.scatter(test_range, list(rand_node.values()), marker='.')\n",
    "# ax1.scatter(test_range, list(asc_node.values()), marker='.', label=\"asc order\")\n",
    "# ax1.scatter(test_range, list(desc_node.values()), marker='.', label=\"desc order\")\n",
    "# ax1.plot(test_range, exp_curve, label=\"$e^x$\")\n",
    "# ax1.plot(test_range, exp_half_curve, label=\"$e^{x/2}$\")\n",
    "# ax1.plot(test_range, pow_curve, label=\"$2^x$\")\n",
    "# ax1.plot(test_range, pow_half_curve, label=\"$2^{x/2}$\")\n",
    "ax1.set_yscale('log')\n",
    "ax1.grid()\n",
    "ax1.set_title(\"Average number of nodes\")\n",
    "# ax1.legend(loc='center left', bbox_to_anchor=(1, 0.5))\n",
    "fig.tight_layout()"
   ]
  },
  {
   "cell_type": "code",
   "execution_count": 10,
   "metadata": {},
   "outputs": [
    {
     "name": "stdout",
     "output_type": "stream",
     "text": [
      " 999\r"
     ]
    }
   ],
   "source": [
    "test_threshold = [-1000, -500, -100, -50, -10, -5, 0, 5, 10, 50, 100, 500, 1000]\n",
    "n_it = 1000\n",
    "n_weights = 12\n",
    "res_time = {k: 0 for k in test_threshold}\n",
    "res_node = {k: 0 for k in test_threshold}\n",
    "for i in range(n_it):\n",
    "    weights = [(random.random()-.5)*100 for _ in range(n_weights)]\n",
    "    print(f\"{i: 2d}\", end=\"\\r\")\n",
    "    for t in test_threshold:\n",
    "        reset_cache()\n",
    "        odd, delta = timed_build_odd_rec(weights, t)\n",
    "        res_time[t]+=delta\n",
    "        res_node[t]+=cache_total_node_count()\n",
    "\n",
    "res_time = {k: v/n_it for k, v in res_time.items()}\n",
    "res_node = {k: v/n_it for k, v in res_node.items()}"
   ]
  },
  {
   "cell_type": "code",
   "execution_count": 12,
   "metadata": {},
   "outputs": [
    {
     "data": {
      "image/png": "[encoded data removed]",
      "text/plain": [
       "<Figure size 900x450 with 2 Axes>"
      ]
     },
     "metadata": {},
     "output_type": "display_data"
    }
   ],
   "source": [
    "fig, axs = plt.subplots(1, 2, layout=\"constrained\", figsize=(9,4.5))\n",
    "ax0, ax1 = axs\n",
    "ax0.bar([str(k) for k in res_time.keys()], list(res_time.values()))\n",
    "ax0.grid()\n",
    "ax0.set_title(\"Average build time (ms)\")\n",
    "ax1.bar([str(k) for k in res_node.keys()], list(res_node.values()))\n",
    "ax1.grid()\n",
    "ax1.set_title(\"Average number of nodes\")\n",
    "fig.tight_layout()"
   ]
  }
 ],
 "metadata": {
  "kernelspec": {
   "display_name": "Python 3",
   "language": "python",
   "name": "python3"
  },
  "language_info": {
   "codemirror_mode": {
    "name": "ipython",
    "version": 3
   },
   "file_extension": ".py",
   "mimetype": "text/x-python",
   "name": "python",
   "nbconvert_exporter": "python",
   "pygments_lexer": "ipython3",
   "version": "3.10.9"
  }
 },
 "nbformat": 4,
 "nbformat_minor": 2
}
